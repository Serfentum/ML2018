{
 "cells": [
  {
   "cell_type": "markdown",
   "metadata": {},
   "source": [
    "# Creation of pandas objects"
   ]
  },
  {
   "cell_type": "code",
   "execution_count": 1,
   "metadata": {},
   "outputs": [],
   "source": [
    "import numpy as np\n",
    "import pandas as pd\n",
    "# Restricting number of displaying rows, just for convenience\n",
    "pd.set_option('max_rows', 8)"
   ]
  },
  {
   "cell_type": "markdown",
   "metadata": {},
   "source": [
    "## Series\n",
    "Series is a 1-dimensional object containing array of values and corresponding index (labels for values). Data in Series belongs to 1 type i.e. homogeneous.  \n",
    "It is very easy to create a Series:"
   ]
  },
  {
   "cell_type": "code",
   "execution_count": 15,
   "metadata": {},
   "outputs": [
    {
     "data": {
      "text/plain": [
       "0     1\n",
       "1     2\n",
       "2     3\n",
       "3     4\n",
       "4    10\n",
       "dtype: int64"
      ]
     },
     "execution_count": 15,
     "metadata": {},
     "output_type": "execute_result"
    }
   ],
   "source": [
    "numbers = pd.Series([1, 2, 3, 4, 10])\n",
    "numbers"
   ]
  },
  {
   "cell_type": "markdown",
   "metadata": {},
   "source": [
    "On the left you can see an index (numbers from 0 to number of elements - 1 by default) and on the right - values. Also there is an information about data type in the bottom, int64 in this case (int stands for integer and 64 is a number of bits for each value in array)\n",
    "\n",
    "Slightly more detailed variant - specifying index of series"
   ]
  },
  {
   "cell_type": "code",
   "execution_count": 17,
   "metadata": {},
   "outputs": [
    {
     "data": {
      "text/plain": [
       "a    1.4\n",
       "c    0.0\n",
       "b    3.5\n",
       "dtype: float64"
      ]
     },
     "execution_count": 17,
     "metadata": {},
     "output_type": "execute_result"
    }
   ],
   "source": [
    "floats = pd.Series([1.4, 0, 3.5], index=['a', 'c', 'b'])\n",
    "floats"
   ]
  },
  {
   "cell_type": "markdown",
   "metadata": {},
   "source": [
    "Another way to create series is to pass a dictionary index: values. Keys from dictionary will become index and values - values)"
   ]
  },
  {
   "cell_type": "code",
   "execution_count": 20,
   "metadata": {},
   "outputs": [
    {
     "data": {
      "text/plain": [
       "bear       2\n",
       "falcon     7\n",
       "wolf      27\n",
       "dtype: int64"
      ]
     },
     "execution_count": 20,
     "metadata": {},
     "output_type": "execute_result"
    }
   ],
   "source": [
    "pets = {'wolf': 27, 'bear': 2, 'falcon': 7}\n",
    "pet_series = pd.Series(pets)\n",
    "pet_series"
   ]
  },
  {
   "cell_type": "markdown",
   "metadata": {},
   "source": [
    "Order of items in this case is random, to define it you can pass to `index` argument a list with index in desired order"
   ]
  },
  {
   "cell_type": "code",
   "execution_count": 22,
   "metadata": {},
   "outputs": [
    {
     "data": {
      "text/plain": [
       "wolf      27\n",
       "bear       2\n",
       "falcon     7\n",
       "dtype: int64"
      ]
     },
     "execution_count": 22,
     "metadata": {},
     "output_type": "execute_result"
    }
   ],
   "source": [
    "ord_pet_series = pd.Series(pets, index=['wolf', 'bear', 'falcon'])\n",
    "ord_pet_series"
   ]
  },
  {
   "cell_type": "markdown",
   "metadata": {},
   "source": [
    "Series contains some other metadata attributes in addition to index, for instance name of series and name of series index, which can be specified in constructor (pd.Series) or assigned to series after creation."
   ]
  },
  {
   "cell_type": "code",
   "execution_count": 29,
   "metadata": {},
   "outputs": [
    {
     "data": {
      "text/plain": [
       "Index(['wolf', 'bear', 'falcon'], dtype='object', name='species')"
      ]
     },
     "execution_count": 29,
     "metadata": {},
     "output_type": "execute_result"
    }
   ],
   "source": [
    "pd.Index(list(pets.keys()), name='species')"
   ]
  },
  {
   "cell_type": "code",
   "execution_count": 30,
   "metadata": {},
   "outputs": [
    {
     "data": {
      "text/plain": [
       "species\n",
       "wolf      27\n",
       "bear       2\n",
       "falcon     7\n",
       "Name: pets, dtype: int64"
      ]
     },
     "execution_count": 30,
     "metadata": {},
     "output_type": "execute_result"
    }
   ],
   "source": [
    "# Create index with name\n",
    "ind = pd.Index(list(pets.keys()), name='species')\n",
    "# Create Series with name and named index\n",
    "pd.Series(pets, name='pets', index=ind)"
   ]
  },
  {
   "cell_type": "code",
   "execution_count": 31,
   "metadata": {},
   "outputs": [
    {
     "data": {
      "text/plain": [
       "species\n",
       "bear       2\n",
       "falcon     7\n",
       "wolf      27\n",
       "Name: pets, dtype: int64"
      ]
     },
     "execution_count": 31,
     "metadata": {},
     "output_type": "execute_result"
    }
   ],
   "source": [
    "# Specify names after creation by assigning to attributes\n",
    "pet_series.name = 'pets'\n",
    "pet_series.index.name = 'species'\n",
    "pet_series"
   ]
  },
  {
   "cell_type": "markdown",
   "metadata": {},
   "source": [
    "## DataFrame\n",
    "Dataframe is 2-dimensional object which looks like a table with possibly heterogeneous data. It consists from Series, each of them has homogeneous (same type) data. There are several ways of creating dataframes, let's look at the manual first"
   ]
  },
  {
   "cell_type": "code",
   "execution_count": 32,
   "metadata": {},
   "outputs": [
    {
     "data": {
      "text/html": [
       "<div>\n",
       "<style scoped>\n",
       "    .dataframe tbody tr th:only-of-type {\n",
       "        vertical-align: middle;\n",
       "    }\n",
       "\n",
       "    .dataframe tbody tr th {\n",
       "        vertical-align: top;\n",
       "    }\n",
       "\n",
       "    .dataframe thead th {\n",
       "        text-align: right;\n",
       "    }\n",
       "</style>\n",
       "<table border=\"1\" class=\"dataframe\">\n",
       "  <thead>\n",
       "    <tr style=\"text-align: right;\">\n",
       "      <th></th>\n",
       "      <th>mass</th>\n",
       "      <th>population</th>\n",
       "      <th>species</th>\n",
       "    </tr>\n",
       "  </thead>\n",
       "  <tbody>\n",
       "    <tr>\n",
       "      <th>0</th>\n",
       "      <td>100</td>\n",
       "      <td>27</td>\n",
       "      <td>wolf</td>\n",
       "    </tr>\n",
       "    <tr>\n",
       "      <th>1</th>\n",
       "      <td>300</td>\n",
       "      <td>2</td>\n",
       "      <td>bear</td>\n",
       "    </tr>\n",
       "    <tr>\n",
       "      <th>2</th>\n",
       "      <td>10</td>\n",
       "      <td>7</td>\n",
       "      <td>falcon</td>\n",
       "    </tr>\n",
       "  </tbody>\n",
       "</table>\n",
       "</div>"
      ],
      "text/plain": [
       "   mass  population species\n",
       "0   100          27    wolf\n",
       "1   300           2    bear\n",
       "2    10           7  falcon"
      ]
     },
     "execution_count": 32,
     "metadata": {},
     "output_type": "execute_result"
    }
   ],
   "source": [
    "# Dataframe from dict\n",
    "animals = pd.DataFrame({'species': ['wolf', 'bear', 'falcon'], \n",
    "                        'population': [27, 2, 7], \n",
    "                        'mass': [100, 300, 10]})\n",
    "animals"
   ]
  },
  {
   "cell_type": "markdown",
   "metadata": {},
   "source": [
    "In the fragment above we've passed to a constructor dictionary with our data, where each key is a name of dataframe column and has a list of values. So we transformed each key-value pair of dictionary in a column in the dataframe.  \n",
    "Similarly to series default index was generated.\n",
    "\n",
    "There is much more python objects including lists, numpy arrays and pandas series which can be fed to constructor to produce a dataframe, but we'll switch to creation dataframe from files"
   ]
  },
  {
   "cell_type": "markdown",
   "metadata": {},
   "source": [
    "## Load data\n",
    "One of the most frequently used way to create DataFrame is reading data from `csv` file, though there are diverse spectrum of methods applicable for different formats of data. For now let's go through csv.\n",
    "\n",
    "\n",
    "Path to input file is a main argument to pandas functions which read data. In our case we will use `read_csv()` function and a file 'movie.csv' from data directory. This is the only required argument to this method, but it has many more which are set by default.  \n",
    "You can specify them if you need something different: '\\t' or ';' as delimeter instead of ',', load just subset of columns, specify column which should be an index etc."
   ]
  },
  {
   "cell_type": "code",
   "execution_count": 23,
   "metadata": {},
   "outputs": [
    {
     "data": {
      "text/html": [
       "<div>\n",
       "<style scoped>\n",
       "    .dataframe tbody tr th:only-of-type {\n",
       "        vertical-align: middle;\n",
       "    }\n",
       "\n",
       "    .dataframe tbody tr th {\n",
       "        vertical-align: top;\n",
       "    }\n",
       "\n",
       "    .dataframe thead th {\n",
       "        text-align: right;\n",
       "    }\n",
       "</style>\n",
       "<table border=\"1\" class=\"dataframe\">\n",
       "  <thead>\n",
       "    <tr style=\"text-align: right;\">\n",
       "      <th></th>\n",
       "      <th>color</th>\n",
       "      <th>director_name</th>\n",
       "      <th>num_critic_for_reviews</th>\n",
       "      <th>duration</th>\n",
       "      <th>director_facebook_likes</th>\n",
       "      <th>actor_3_facebook_likes</th>\n",
       "      <th>actor_2_name</th>\n",
       "      <th>actor_1_facebook_likes</th>\n",
       "      <th>gross</th>\n",
       "      <th>genres</th>\n",
       "      <th>...</th>\n",
       "      <th>num_user_for_reviews</th>\n",
       "      <th>language</th>\n",
       "      <th>country</th>\n",
       "      <th>content_rating</th>\n",
       "      <th>budget</th>\n",
       "      <th>title_year</th>\n",
       "      <th>actor_2_facebook_likes</th>\n",
       "      <th>imdb_score</th>\n",
       "      <th>aspect_ratio</th>\n",
       "      <th>movie_facebook_likes</th>\n",
       "    </tr>\n",
       "  </thead>\n",
       "  <tbody>\n",
       "    <tr>\n",
       "      <th>0</th>\n",
       "      <td>Color</td>\n",
       "      <td>James Cameron</td>\n",
       "      <td>723.0</td>\n",
       "      <td>178.0</td>\n",
       "      <td>0.0</td>\n",
       "      <td>855.0</td>\n",
       "      <td>Joel David Moore</td>\n",
       "      <td>1000.0</td>\n",
       "      <td>760505847.0</td>\n",
       "      <td>Action|Adventure|Fantasy|Sci-Fi</td>\n",
       "      <td>...</td>\n",
       "      <td>3054.0</td>\n",
       "      <td>English</td>\n",
       "      <td>USA</td>\n",
       "      <td>PG-13</td>\n",
       "      <td>237000000.0</td>\n",
       "      <td>2009.0</td>\n",
       "      <td>936.0</td>\n",
       "      <td>7.9</td>\n",
       "      <td>1.78</td>\n",
       "      <td>33000</td>\n",
       "    </tr>\n",
       "    <tr>\n",
       "      <th>1</th>\n",
       "      <td>Color</td>\n",
       "      <td>Gore Verbinski</td>\n",
       "      <td>302.0</td>\n",
       "      <td>169.0</td>\n",
       "      <td>563.0</td>\n",
       "      <td>1000.0</td>\n",
       "      <td>Orlando Bloom</td>\n",
       "      <td>40000.0</td>\n",
       "      <td>309404152.0</td>\n",
       "      <td>Action|Adventure|Fantasy</td>\n",
       "      <td>...</td>\n",
       "      <td>1238.0</td>\n",
       "      <td>English</td>\n",
       "      <td>USA</td>\n",
       "      <td>PG-13</td>\n",
       "      <td>300000000.0</td>\n",
       "      <td>2007.0</td>\n",
       "      <td>5000.0</td>\n",
       "      <td>7.1</td>\n",
       "      <td>2.35</td>\n",
       "      <td>0</td>\n",
       "    </tr>\n",
       "    <tr>\n",
       "      <th>2</th>\n",
       "      <td>Color</td>\n",
       "      <td>Sam Mendes</td>\n",
       "      <td>602.0</td>\n",
       "      <td>148.0</td>\n",
       "      <td>0.0</td>\n",
       "      <td>161.0</td>\n",
       "      <td>Rory Kinnear</td>\n",
       "      <td>11000.0</td>\n",
       "      <td>200074175.0</td>\n",
       "      <td>Action|Adventure|Thriller</td>\n",
       "      <td>...</td>\n",
       "      <td>994.0</td>\n",
       "      <td>English</td>\n",
       "      <td>UK</td>\n",
       "      <td>PG-13</td>\n",
       "      <td>245000000.0</td>\n",
       "      <td>2015.0</td>\n",
       "      <td>393.0</td>\n",
       "      <td>6.8</td>\n",
       "      <td>2.35</td>\n",
       "      <td>85000</td>\n",
       "    </tr>\n",
       "    <tr>\n",
       "      <th>3</th>\n",
       "      <td>Color</td>\n",
       "      <td>Christopher Nolan</td>\n",
       "      <td>813.0</td>\n",
       "      <td>164.0</td>\n",
       "      <td>22000.0</td>\n",
       "      <td>23000.0</td>\n",
       "      <td>Christian Bale</td>\n",
       "      <td>27000.0</td>\n",
       "      <td>448130642.0</td>\n",
       "      <td>Action|Thriller</td>\n",
       "      <td>...</td>\n",
       "      <td>2701.0</td>\n",
       "      <td>English</td>\n",
       "      <td>USA</td>\n",
       "      <td>PG-13</td>\n",
       "      <td>250000000.0</td>\n",
       "      <td>2012.0</td>\n",
       "      <td>23000.0</td>\n",
       "      <td>8.5</td>\n",
       "      <td>2.35</td>\n",
       "      <td>164000</td>\n",
       "    </tr>\n",
       "    <tr>\n",
       "      <th>...</th>\n",
       "      <td>...</td>\n",
       "      <td>...</td>\n",
       "      <td>...</td>\n",
       "      <td>...</td>\n",
       "      <td>...</td>\n",
       "      <td>...</td>\n",
       "      <td>...</td>\n",
       "      <td>...</td>\n",
       "      <td>...</td>\n",
       "      <td>...</td>\n",
       "      <td>...</td>\n",
       "      <td>...</td>\n",
       "      <td>...</td>\n",
       "      <td>...</td>\n",
       "      <td>...</td>\n",
       "      <td>...</td>\n",
       "      <td>...</td>\n",
       "      <td>...</td>\n",
       "      <td>...</td>\n",
       "      <td>...</td>\n",
       "      <td>...</td>\n",
       "    </tr>\n",
       "    <tr>\n",
       "      <th>4912</th>\n",
       "      <td>Color</td>\n",
       "      <td>NaN</td>\n",
       "      <td>43.0</td>\n",
       "      <td>43.0</td>\n",
       "      <td>NaN</td>\n",
       "      <td>319.0</td>\n",
       "      <td>Valorie Curry</td>\n",
       "      <td>841.0</td>\n",
       "      <td>NaN</td>\n",
       "      <td>Crime|Drama|Mystery|Thriller</td>\n",
       "      <td>...</td>\n",
       "      <td>359.0</td>\n",
       "      <td>English</td>\n",
       "      <td>USA</td>\n",
       "      <td>TV-14</td>\n",
       "      <td>NaN</td>\n",
       "      <td>NaN</td>\n",
       "      <td>593.0</td>\n",
       "      <td>7.5</td>\n",
       "      <td>16.00</td>\n",
       "      <td>32000</td>\n",
       "    </tr>\n",
       "    <tr>\n",
       "      <th>4913</th>\n",
       "      <td>Color</td>\n",
       "      <td>Benjamin Roberds</td>\n",
       "      <td>13.0</td>\n",
       "      <td>76.0</td>\n",
       "      <td>0.0</td>\n",
       "      <td>0.0</td>\n",
       "      <td>Maxwell Moody</td>\n",
       "      <td>0.0</td>\n",
       "      <td>NaN</td>\n",
       "      <td>Drama|Horror|Thriller</td>\n",
       "      <td>...</td>\n",
       "      <td>3.0</td>\n",
       "      <td>English</td>\n",
       "      <td>USA</td>\n",
       "      <td>NaN</td>\n",
       "      <td>1400.0</td>\n",
       "      <td>2013.0</td>\n",
       "      <td>0.0</td>\n",
       "      <td>6.3</td>\n",
       "      <td>NaN</td>\n",
       "      <td>16</td>\n",
       "    </tr>\n",
       "    <tr>\n",
       "      <th>4914</th>\n",
       "      <td>Color</td>\n",
       "      <td>Daniel Hsia</td>\n",
       "      <td>14.0</td>\n",
       "      <td>100.0</td>\n",
       "      <td>0.0</td>\n",
       "      <td>489.0</td>\n",
       "      <td>Daniel Henney</td>\n",
       "      <td>946.0</td>\n",
       "      <td>10443.0</td>\n",
       "      <td>Comedy|Drama|Romance</td>\n",
       "      <td>...</td>\n",
       "      <td>9.0</td>\n",
       "      <td>English</td>\n",
       "      <td>USA</td>\n",
       "      <td>PG-13</td>\n",
       "      <td>NaN</td>\n",
       "      <td>2012.0</td>\n",
       "      <td>719.0</td>\n",
       "      <td>6.3</td>\n",
       "      <td>2.35</td>\n",
       "      <td>660</td>\n",
       "    </tr>\n",
       "    <tr>\n",
       "      <th>4915</th>\n",
       "      <td>Color</td>\n",
       "      <td>Jon Gunn</td>\n",
       "      <td>43.0</td>\n",
       "      <td>90.0</td>\n",
       "      <td>16.0</td>\n",
       "      <td>16.0</td>\n",
       "      <td>Brian Herzlinger</td>\n",
       "      <td>86.0</td>\n",
       "      <td>85222.0</td>\n",
       "      <td>Documentary</td>\n",
       "      <td>...</td>\n",
       "      <td>84.0</td>\n",
       "      <td>English</td>\n",
       "      <td>USA</td>\n",
       "      <td>PG</td>\n",
       "      <td>1100.0</td>\n",
       "      <td>2004.0</td>\n",
       "      <td>23.0</td>\n",
       "      <td>6.6</td>\n",
       "      <td>1.85</td>\n",
       "      <td>456</td>\n",
       "    </tr>\n",
       "  </tbody>\n",
       "</table>\n",
       "<p>4916 rows × 28 columns</p>\n",
       "</div>"
      ],
      "text/plain": [
       "      color      director_name  num_critic_for_reviews  duration  \\\n",
       "0     Color      James Cameron                   723.0     178.0   \n",
       "1     Color     Gore Verbinski                   302.0     169.0   \n",
       "2     Color         Sam Mendes                   602.0     148.0   \n",
       "3     Color  Christopher Nolan                   813.0     164.0   \n",
       "...     ...                ...                     ...       ...   \n",
       "4912  Color                NaN                    43.0      43.0   \n",
       "4913  Color   Benjamin Roberds                    13.0      76.0   \n",
       "4914  Color        Daniel Hsia                    14.0     100.0   \n",
       "4915  Color           Jon Gunn                    43.0      90.0   \n",
       "\n",
       "      director_facebook_likes  actor_3_facebook_likes      actor_2_name  \\\n",
       "0                         0.0                   855.0  Joel David Moore   \n",
       "1                       563.0                  1000.0     Orlando Bloom   \n",
       "2                         0.0                   161.0      Rory Kinnear   \n",
       "3                     22000.0                 23000.0    Christian Bale   \n",
       "...                       ...                     ...               ...   \n",
       "4912                      NaN                   319.0     Valorie Curry   \n",
       "4913                      0.0                     0.0     Maxwell Moody   \n",
       "4914                      0.0                   489.0     Daniel Henney   \n",
       "4915                     16.0                    16.0  Brian Herzlinger   \n",
       "\n",
       "      actor_1_facebook_likes        gross                           genres  \\\n",
       "0                     1000.0  760505847.0  Action|Adventure|Fantasy|Sci-Fi   \n",
       "1                    40000.0  309404152.0         Action|Adventure|Fantasy   \n",
       "2                    11000.0  200074175.0        Action|Adventure|Thriller   \n",
       "3                    27000.0  448130642.0                  Action|Thriller   \n",
       "...                      ...          ...                              ...   \n",
       "4912                   841.0          NaN     Crime|Drama|Mystery|Thriller   \n",
       "4913                     0.0          NaN            Drama|Horror|Thriller   \n",
       "4914                   946.0      10443.0             Comedy|Drama|Romance   \n",
       "4915                    86.0      85222.0                      Documentary   \n",
       "\n",
       "             ...          num_user_for_reviews language  country  \\\n",
       "0            ...                        3054.0  English      USA   \n",
       "1            ...                        1238.0  English      USA   \n",
       "2            ...                         994.0  English       UK   \n",
       "3            ...                        2701.0  English      USA   \n",
       "...          ...                           ...      ...      ...   \n",
       "4912         ...                         359.0  English      USA   \n",
       "4913         ...                           3.0  English      USA   \n",
       "4914         ...                           9.0  English      USA   \n",
       "4915         ...                          84.0  English      USA   \n",
       "\n",
       "      content_rating       budget  title_year actor_2_facebook_likes  \\\n",
       "0              PG-13  237000000.0      2009.0                  936.0   \n",
       "1              PG-13  300000000.0      2007.0                 5000.0   \n",
       "2              PG-13  245000000.0      2015.0                  393.0   \n",
       "3              PG-13  250000000.0      2012.0                23000.0   \n",
       "...              ...          ...         ...                    ...   \n",
       "4912           TV-14          NaN         NaN                  593.0   \n",
       "4913             NaN       1400.0      2013.0                    0.0   \n",
       "4914           PG-13          NaN      2012.0                  719.0   \n",
       "4915              PG       1100.0      2004.0                   23.0   \n",
       "\n",
       "     imdb_score  aspect_ratio movie_facebook_likes  \n",
       "0           7.9          1.78                33000  \n",
       "1           7.1          2.35                    0  \n",
       "2           6.8          2.35                85000  \n",
       "3           8.5          2.35               164000  \n",
       "...         ...           ...                  ...  \n",
       "4912        7.5         16.00                32000  \n",
       "4913        6.3           NaN                   16  \n",
       "4914        6.3          2.35                  660  \n",
       "4915        6.6          1.85                  456  \n",
       "\n",
       "[4916 rows x 28 columns]"
      ]
     },
     "execution_count": 23,
     "metadata": {},
     "output_type": "execute_result"
    }
   ],
   "source": [
    "# Read movie.csv and assign dataframe with data to variable movie\n",
    "movie = pd.read_csv('data/movie.csv')\n",
    "# Show it\n",
    "movie"
   ]
  },
  {
   "cell_type": "markdown",
   "metadata": {},
   "source": [
    "In addition to this, tabular data often comes in a form of excel file. There is an example how to deal with it\n",
    "\n",
    "`read_csv()` function has argument `sheet_name` and there are several ways to specify necessary piece of xls file:\n",
    "* integer - get sheet with this index (0-based) from file\n",
    "* name - get sheet with this name\n",
    "* list - get dictionary with sheets specified in list by index or name\n",
    "* `None` - get dictionary with all sheets\n",
    "\n",
    "`read_csv()` process sheets to dataframes"
   ]
  },
  {
   "cell_type": "code",
   "execution_count": 21,
   "metadata": {},
   "outputs": [
    {
     "data": {
      "text/html": [
       "<div>\n",
       "<style scoped>\n",
       "    .dataframe tbody tr th:only-of-type {\n",
       "        vertical-align: middle;\n",
       "    }\n",
       "\n",
       "    .dataframe tbody tr th {\n",
       "        vertical-align: top;\n",
       "    }\n",
       "\n",
       "    .dataframe thead th {\n",
       "        text-align: right;\n",
       "    }\n",
       "</style>\n",
       "<table border=\"1\" class=\"dataframe\">\n",
       "  <thead>\n",
       "    <tr style=\"text-align: right;\">\n",
       "      <th></th>\n",
       "      <th>а-D-Glucopyranosiduronic acid, 3-(5-ethylhexahydro-2,4,6-trioxo-5-pyrimidinyl)-1,1-dimethylpropyl 2,3,4-tris-O-(trimethylsilyl)-, methyl ester</th>\n",
       "      <th>Hexopyranose, 1,2,3,4,6-pentakis-O-(trimethylsilyl)-</th>\n",
       "      <th>Hexopyranose, 1,2,3,4,6-pentakis-O-(trimethylsilyl)-.1</th>\n",
       "      <th>Spiro[isoquinoline-1,2'-indene],1,2,3,4,2',3'-tetrahydro-6'-hydroxy-6,7,3',7'-tetramethoxy-2-methyl-1'-oxo-</th>\n",
       "      <th>.psi.,.psi.-Carotene, 3,3',4,4'-tetradehydro-1,1',2,2'-tetrahydro-1,1'-dimethoxy-2,2'-dioxo-</th>\n",
       "      <th>Melibiose, octakis(trimethylsilyl)-</th>\n",
       "      <th>Prosta-5,13-dien-1-oic acid, 9,11,15-tris[(trimethylsilyl)oxy]-, trimethylsilyl ester, (5Z,9а,11а,13E,15S)-</th>\n",
       "      <th>7-Bromo-5-(2-chloro-phenyl)-3-(4-methoxy-benzylidene)-1,3-dihydro-benzo[e][1,4]diazepin-2-one</th>\n",
       "      <th>а-Tocopherol (vitamin E), trimethysilyl derivative</th>\n",
       "      <th>Zirconium, dichloro-[dimethylbis(2-methyl-3H-benz[e]indenyl)silane]</th>\n",
       "    </tr>\n",
       "  </thead>\n",
       "  <tbody>\n",
       "    <tr>\n",
       "      <th>0</th>\n",
       "      <td>507124.562500</td>\n",
       "      <td>189917.343750</td>\n",
       "      <td>582868.562500</td>\n",
       "      <td>19128.693359</td>\n",
       "      <td>15622.906250</td>\n",
       "      <td>744739.750000</td>\n",
       "      <td>13137.173828</td>\n",
       "      <td>158.641266</td>\n",
       "      <td>42181.695312</td>\n",
       "      <td>-43028.925781</td>\n",
       "    </tr>\n",
       "    <tr>\n",
       "      <th>1</th>\n",
       "      <td>9454.327148</td>\n",
       "      <td>457.068848</td>\n",
       "      <td>4702.050781</td>\n",
       "      <td>115.536400</td>\n",
       "      <td>1598.835083</td>\n",
       "      <td>3156.303467</td>\n",
       "      <td>2160.894531</td>\n",
       "      <td>-863.654236</td>\n",
       "      <td>-18.434906</td>\n",
       "      <td>8944.918945</td>\n",
       "    </tr>\n",
       "    <tr>\n",
       "      <th>2</th>\n",
       "      <td>49307.113281</td>\n",
       "      <td>123400.468750</td>\n",
       "      <td>98081.093750</td>\n",
       "      <td>5841.652344</td>\n",
       "      <td>2027.103271</td>\n",
       "      <td>77488.531250</td>\n",
       "      <td>5750.259277</td>\n",
       "      <td>-1240.025757</td>\n",
       "      <td>302.738739</td>\n",
       "      <td>-21416.132812</td>\n",
       "    </tr>\n",
       "    <tr>\n",
       "      <th>3</th>\n",
       "      <td>11006.019531</td>\n",
       "      <td>2254.103516</td>\n",
       "      <td>5705.356934</td>\n",
       "      <td>-76.605408</td>\n",
       "      <td>982.100769</td>\n",
       "      <td>2896.895264</td>\n",
       "      <td>1731.685669</td>\n",
       "      <td>-546.834656</td>\n",
       "      <td>-157.504745</td>\n",
       "      <td>26459.480469</td>\n",
       "    </tr>\n",
       "    <tr>\n",
       "      <th>...</th>\n",
       "      <td>...</td>\n",
       "      <td>...</td>\n",
       "      <td>...</td>\n",
       "      <td>...</td>\n",
       "      <td>...</td>\n",
       "      <td>...</td>\n",
       "      <td>...</td>\n",
       "      <td>...</td>\n",
       "      <td>...</td>\n",
       "      <td>...</td>\n",
       "    </tr>\n",
       "    <tr>\n",
       "      <th>16</th>\n",
       "      <td>39714.757812</td>\n",
       "      <td>-672.432373</td>\n",
       "      <td>-3042.298096</td>\n",
       "      <td>88908.203125</td>\n",
       "      <td>92910.437500</td>\n",
       "      <td>1332.892090</td>\n",
       "      <td>32087.824219</td>\n",
       "      <td>19266.949219</td>\n",
       "      <td>230.283798</td>\n",
       "      <td>53543.675781</td>\n",
       "    </tr>\n",
       "    <tr>\n",
       "      <th>17</th>\n",
       "      <td>9868.811523</td>\n",
       "      <td>-243.777557</td>\n",
       "      <td>2027.609253</td>\n",
       "      <td>-134.875809</td>\n",
       "      <td>2161.079834</td>\n",
       "      <td>1329.175659</td>\n",
       "      <td>4423.034668</td>\n",
       "      <td>-317.740326</td>\n",
       "      <td>42.735519</td>\n",
       "      <td>10203.259766</td>\n",
       "    </tr>\n",
       "    <tr>\n",
       "      <th>18</th>\n",
       "      <td>21233.472656</td>\n",
       "      <td>-1250.317871</td>\n",
       "      <td>-1290.885132</td>\n",
       "      <td>2406.536377</td>\n",
       "      <td>10165.042969</td>\n",
       "      <td>407.414062</td>\n",
       "      <td>-2076.692139</td>\n",
       "      <td>1673.608765</td>\n",
       "      <td>121.020676</td>\n",
       "      <td>18467.087891</td>\n",
       "    </tr>\n",
       "    <tr>\n",
       "      <th>19</th>\n",
       "      <td>1921.260010</td>\n",
       "      <td>-49.900234</td>\n",
       "      <td>408.694885</td>\n",
       "      <td>17.531906</td>\n",
       "      <td>633.037598</td>\n",
       "      <td>480.597595</td>\n",
       "      <td>-369.678558</td>\n",
       "      <td>-8.048265</td>\n",
       "      <td>-2.579257</td>\n",
       "      <td>2200.178711</td>\n",
       "    </tr>\n",
       "  </tbody>\n",
       "</table>\n",
       "<p>20 rows × 10 columns</p>\n",
       "</div>"
      ],
      "text/plain": [
       "    а-D-Glucopyranosiduronic acid, 3-(5-ethylhexahydro-2,4,6-trioxo-5-pyrimidinyl)-1,1-dimethylpropyl 2,3,4-tris-O-(trimethylsilyl)-, methyl ester  \\\n",
       "0                                       507124.562500                                                                                                \n",
       "1                                         9454.327148                                                                                                \n",
       "2                                        49307.113281                                                                                                \n",
       "3                                        11006.019531                                                                                                \n",
       "..                                                ...                                                                                                \n",
       "16                                       39714.757812                                                                                                \n",
       "17                                        9868.811523                                                                                                \n",
       "18                                       21233.472656                                                                                                \n",
       "19                                        1921.260010                                                                                                \n",
       "\n",
       "    Hexopyranose, 1,2,3,4,6-pentakis-O-(trimethylsilyl)-  \\\n",
       "0                                       189917.343750      \n",
       "1                                          457.068848      \n",
       "2                                       123400.468750      \n",
       "3                                         2254.103516      \n",
       "..                                                ...      \n",
       "16                                        -672.432373      \n",
       "17                                        -243.777557      \n",
       "18                                       -1250.317871      \n",
       "19                                         -49.900234      \n",
       "\n",
       "    Hexopyranose, 1,2,3,4,6-pentakis-O-(trimethylsilyl)-.1  \\\n",
       "0                                       582868.562500        \n",
       "1                                         4702.050781        \n",
       "2                                        98081.093750        \n",
       "3                                         5705.356934        \n",
       "..                                                ...        \n",
       "16                                       -3042.298096        \n",
       "17                                        2027.609253        \n",
       "18                                       -1290.885132        \n",
       "19                                         408.694885        \n",
       "\n",
       "    Spiro[isoquinoline-1,2'-indene],1,2,3,4,2',3'-tetrahydro-6'-hydroxy-6,7,3',7'-tetramethoxy-2-methyl-1'-oxo-  \\\n",
       "0                                        19128.693359                                                             \n",
       "1                                          115.536400                                                             \n",
       "2                                         5841.652344                                                             \n",
       "3                                          -76.605408                                                             \n",
       "..                                                ...                                                             \n",
       "16                                       88908.203125                                                             \n",
       "17                                        -134.875809                                                             \n",
       "18                                        2406.536377                                                             \n",
       "19                                          17.531906                                                             \n",
       "\n",
       "    .psi.,.psi.-Carotene, 3,3',4,4'-tetradehydro-1,1',2,2'-tetrahydro-1,1'-dimethoxy-2,2'-dioxo-  \\\n",
       "0                                        15622.906250                                              \n",
       "1                                         1598.835083                                              \n",
       "2                                         2027.103271                                              \n",
       "3                                          982.100769                                              \n",
       "..                                                ...                                              \n",
       "16                                       92910.437500                                              \n",
       "17                                        2161.079834                                              \n",
       "18                                       10165.042969                                              \n",
       "19                                         633.037598                                              \n",
       "\n",
       "    Melibiose, octakis(trimethylsilyl)-  \\\n",
       "0                         744739.750000   \n",
       "1                           3156.303467   \n",
       "2                          77488.531250   \n",
       "3                           2896.895264   \n",
       "..                                  ...   \n",
       "16                          1332.892090   \n",
       "17                          1329.175659   \n",
       "18                           407.414062   \n",
       "19                           480.597595   \n",
       "\n",
       "    Prosta-5,13-dien-1-oic acid, 9,11,15-tris[(trimethylsilyl)oxy]-, trimethylsilyl ester, (5Z,9а,11а,13E,15S)-  \\\n",
       "0                                        13137.173828                                                             \n",
       "1                                         2160.894531                                                             \n",
       "2                                         5750.259277                                                             \n",
       "3                                         1731.685669                                                             \n",
       "..                                                ...                                                             \n",
       "16                                       32087.824219                                                             \n",
       "17                                        4423.034668                                                             \n",
       "18                                       -2076.692139                                                             \n",
       "19                                        -369.678558                                                             \n",
       "\n",
       "    7-Bromo-5-(2-chloro-phenyl)-3-(4-methoxy-benzylidene)-1,3-dihydro-benzo[e][1,4]diazepin-2-one  \\\n",
       "0                                          158.641266                                               \n",
       "1                                         -863.654236                                               \n",
       "2                                        -1240.025757                                               \n",
       "3                                         -546.834656                                               \n",
       "..                                                ...                                               \n",
       "16                                       19266.949219                                               \n",
       "17                                        -317.740326                                               \n",
       "18                                        1673.608765                                               \n",
       "19                                          -8.048265                                               \n",
       "\n",
       "    а-Tocopherol (vitamin E), trimethysilyl derivative  \\\n",
       "0                                        42181.695312    \n",
       "1                                          -18.434906    \n",
       "2                                          302.738739    \n",
       "3                                         -157.504745    \n",
       "..                                                ...    \n",
       "16                                         230.283798    \n",
       "17                                          42.735519    \n",
       "18                                         121.020676    \n",
       "19                                          -2.579257    \n",
       "\n",
       "    Zirconium, dichloro-[dimethylbis(2-methyl-3H-benz[e]indenyl)silane]  \n",
       "0                                       -43028.925781                    \n",
       "1                                         8944.918945                    \n",
       "2                                       -21416.132812                    \n",
       "3                                        26459.480469                    \n",
       "..                                                ...                    \n",
       "16                                       53543.675781                    \n",
       "17                                       10203.259766                    \n",
       "18                                       18467.087891                    \n",
       "19                                        2200.178711                    \n",
       "\n",
       "[20 rows x 10 columns]"
      ]
     },
     "execution_count": 21,
     "metadata": {},
     "output_type": "execute_result"
    }
   ],
   "source": [
    "# Take 1st sheet\n",
    "a = pd.read_excel('data/concentrations.xlsx', 0)\n",
    "a"
   ]
  },
  {
   "cell_type": "code",
   "execution_count": 12,
   "metadata": {},
   "outputs": [
    {
     "data": {
      "text/html": [
       "<div>\n",
       "<style scoped>\n",
       "    .dataframe tbody tr th:only-of-type {\n",
       "        vertical-align: middle;\n",
       "    }\n",
       "\n",
       "    .dataframe tbody tr th {\n",
       "        vertical-align: top;\n",
       "    }\n",
       "\n",
       "    .dataframe thead th {\n",
       "        text-align: right;\n",
       "    }\n",
       "</style>\n",
       "<table border=\"1\" class=\"dataframe\">\n",
       "  <thead>\n",
       "    <tr style=\"text-align: right;\">\n",
       "      <th></th>\n",
       "      <th>Hexopyranose, 1,2,3,4,6-pentakis-O-(trimethylsilyl)-</th>\n",
       "      <th>1,2-Benzenedicarboxylic acid, diisooctyl ester</th>\n",
       "      <th>4,6-Dichloro-5-heptyl-2-(4-hexylpfenyl)pyrimidine</th>\n",
       "      <th>4',5,7-Trihydroxyflavanone, tris(trimethylsilyl) ether</th>\n",
       "      <th>а-D-Glucopyranoside, 1,3,4,6-tetrakis-O-(trimethylsilyl)-б-D-fructofuranosyl 2,3,4,6-tetrakis-O-(trimethylsilyl)-</th>\n",
       "      <th>а-D-Glucopyranoside, 1,3,4,6-tetrakis-O-(trimethylsilyl)-б-D-fructofuranosyl 2,3,4,6-tetrakis-O-(trimethylsilyl)-.1</th>\n",
       "      <th>1-Silacyclopentadiene, 3-(diethylboryl)-4-ethyl-1,1-dimethyl-2-(3-methylbutyl)-5-trimethylstannyl-</th>\n",
       "      <th>D-Glucose, 4-O-[2,3,4,6-tetrakis-O-(trimethylsilyl)-б-D-glucopyranosyl]-2,3,5,6-tetrakis-O-(trimethylsilyl)-</th>\n",
       "      <th>cis-15-Tetracosenoic acid, trimethylsilyl ester</th>\n",
       "      <th>6,10,14,18,22-Tetracosapentaen-2-ol, 3-bromo-2,6,10,15,19,23-hexamethyl-, (all-E)-</th>\n",
       "    </tr>\n",
       "  </thead>\n",
       "  <tbody>\n",
       "    <tr>\n",
       "      <th>0</th>\n",
       "      <td>1.846154e+06</td>\n",
       "      <td>14311.475586</td>\n",
       "      <td>9.835251e+04</td>\n",
       "      <td>3985.404053</td>\n",
       "      <td>7.121700e+06</td>\n",
       "      <td>104622.585938</td>\n",
       "      <td>-1.820315e+04</td>\n",
       "      <td>50923.320312</td>\n",
       "      <td>65814.773438</td>\n",
       "      <td>261807.640625</td>\n",
       "    </tr>\n",
       "    <tr>\n",
       "      <th>1</th>\n",
       "      <td>2.083566e+04</td>\n",
       "      <td>664.595520</td>\n",
       "      <td>3.265388e+03</td>\n",
       "      <td>-425.303375</td>\n",
       "      <td>4.506398e+03</td>\n",
       "      <td>3436.832275</td>\n",
       "      <td>5.044421e+02</td>\n",
       "      <td>-446.764618</td>\n",
       "      <td>847.857422</td>\n",
       "      <td>-442.908600</td>\n",
       "    </tr>\n",
       "    <tr>\n",
       "      <th>2</th>\n",
       "      <td>2.559991e+05</td>\n",
       "      <td>3081.017578</td>\n",
       "      <td>1.096444e+04</td>\n",
       "      <td>393.137299</td>\n",
       "      <td>9.176920e+05</td>\n",
       "      <td>31117.765625</td>\n",
       "      <td>-1.959767e+03</td>\n",
       "      <td>19186.367188</td>\n",
       "      <td>8088.136230</td>\n",
       "      <td>23176.537109</td>\n",
       "    </tr>\n",
       "    <tr>\n",
       "      <th>3</th>\n",
       "      <td>2.593375e+04</td>\n",
       "      <td>783.901428</td>\n",
       "      <td>4.677072e+03</td>\n",
       "      <td>-549.962219</td>\n",
       "      <td>7.287276e+03</td>\n",
       "      <td>3920.685303</td>\n",
       "      <td>6.590790e+02</td>\n",
       "      <td>2694.312744</td>\n",
       "      <td>1439.640747</td>\n",
       "      <td>-1571.349731</td>\n",
       "    </tr>\n",
       "    <tr>\n",
       "      <th>...</th>\n",
       "      <td>...</td>\n",
       "      <td>...</td>\n",
       "      <td>...</td>\n",
       "      <td>...</td>\n",
       "      <td>...</td>\n",
       "      <td>...</td>\n",
       "      <td>...</td>\n",
       "      <td>...</td>\n",
       "      <td>...</td>\n",
       "      <td>...</td>\n",
       "    </tr>\n",
       "    <tr>\n",
       "      <th>16</th>\n",
       "      <td>8.140023e+04</td>\n",
       "      <td>46621.976562</td>\n",
       "      <td>2.003994e+06</td>\n",
       "      <td>237224.656250</td>\n",
       "      <td>5.147826e+03</td>\n",
       "      <td>268715.656250</td>\n",
       "      <td>2.388228e+06</td>\n",
       "      <td>117408.453125</td>\n",
       "      <td>-2189.736084</td>\n",
       "      <td>4597.953613</td>\n",
       "    </tr>\n",
       "    <tr>\n",
       "      <th>17</th>\n",
       "      <td>6.831865e+03</td>\n",
       "      <td>734.567017</td>\n",
       "      <td>2.072413e+03</td>\n",
       "      <td>-51.445850</td>\n",
       "      <td>1.465604e+03</td>\n",
       "      <td>304.512665</td>\n",
       "      <td>-6.415499e+02</td>\n",
       "      <td>-970.719055</td>\n",
       "      <td>914.828064</td>\n",
       "      <td>585.578552</td>\n",
       "    </tr>\n",
       "    <tr>\n",
       "      <th>18</th>\n",
       "      <td>2.498472e+04</td>\n",
       "      <td>5935.825195</td>\n",
       "      <td>2.144261e+05</td>\n",
       "      <td>-240.962708</td>\n",
       "      <td>4.480450e+03</td>\n",
       "      <td>91586.148438</td>\n",
       "      <td>3.677882e+05</td>\n",
       "      <td>13814.798828</td>\n",
       "      <td>1573.585693</td>\n",
       "      <td>2089.795654</td>\n",
       "    </tr>\n",
       "    <tr>\n",
       "      <th>19</th>\n",
       "      <td>1.559208e+03</td>\n",
       "      <td>116.252571</td>\n",
       "      <td>5.585344e+02</td>\n",
       "      <td>-159.150040</td>\n",
       "      <td>2.892791e+02</td>\n",
       "      <td>-97.843719</td>\n",
       "      <td>4.018860e+02</td>\n",
       "      <td>-329.434143</td>\n",
       "      <td>163.390533</td>\n",
       "      <td>353.952728</td>\n",
       "    </tr>\n",
       "  </tbody>\n",
       "</table>\n",
       "<p>20 rows × 10 columns</p>\n",
       "</div>"
      ],
      "text/plain": [
       "    Hexopyranose, 1,2,3,4,6-pentakis-O-(trimethylsilyl)-  \\\n",
       "0                                        1.846154e+06      \n",
       "1                                        2.083566e+04      \n",
       "2                                        2.559991e+05      \n",
       "3                                        2.593375e+04      \n",
       "..                                                ...      \n",
       "16                                       8.140023e+04      \n",
       "17                                       6.831865e+03      \n",
       "18                                       2.498472e+04      \n",
       "19                                       1.559208e+03      \n",
       "\n",
       "    1,2-Benzenedicarboxylic acid, diisooctyl ester  \\\n",
       "0                                     14311.475586   \n",
       "1                                       664.595520   \n",
       "2                                      3081.017578   \n",
       "3                                       783.901428   \n",
       "..                                             ...   \n",
       "16                                    46621.976562   \n",
       "17                                      734.567017   \n",
       "18                                     5935.825195   \n",
       "19                                      116.252571   \n",
       "\n",
       "    4,6-Dichloro-5-heptyl-2-(4-hexylpfenyl)pyrimidine  \\\n",
       "0                                        9.835251e+04   \n",
       "1                                        3.265388e+03   \n",
       "2                                        1.096444e+04   \n",
       "3                                        4.677072e+03   \n",
       "..                                                ...   \n",
       "16                                       2.003994e+06   \n",
       "17                                       2.072413e+03   \n",
       "18                                       2.144261e+05   \n",
       "19                                       5.585344e+02   \n",
       "\n",
       "    4',5,7-Trihydroxyflavanone, tris(trimethylsilyl) ether  \\\n",
       "0                                         3985.404053        \n",
       "1                                         -425.303375        \n",
       "2                                          393.137299        \n",
       "3                                         -549.962219        \n",
       "..                                                ...        \n",
       "16                                      237224.656250        \n",
       "17                                         -51.445850        \n",
       "18                                        -240.962708        \n",
       "19                                        -159.150040        \n",
       "\n",
       "    а-D-Glucopyranoside, 1,3,4,6-tetrakis-O-(trimethylsilyl)-б-D-fructofuranosyl 2,3,4,6-tetrakis-O-(trimethylsilyl)-  \\\n",
       "0                                        7.121700e+06                                                                   \n",
       "1                                        4.506398e+03                                                                   \n",
       "2                                        9.176920e+05                                                                   \n",
       "3                                        7.287276e+03                                                                   \n",
       "..                                                ...                                                                   \n",
       "16                                       5.147826e+03                                                                   \n",
       "17                                       1.465604e+03                                                                   \n",
       "18                                       4.480450e+03                                                                   \n",
       "19                                       2.892791e+02                                                                   \n",
       "\n",
       "    а-D-Glucopyranoside, 1,3,4,6-tetrakis-O-(trimethylsilyl)-б-D-fructofuranosyl 2,3,4,6-tetrakis-O-(trimethylsilyl)-.1  \\\n",
       "0                                       104622.585938                                                                     \n",
       "1                                         3436.832275                                                                     \n",
       "2                                        31117.765625                                                                     \n",
       "3                                         3920.685303                                                                     \n",
       "..                                                ...                                                                     \n",
       "16                                      268715.656250                                                                     \n",
       "17                                         304.512665                                                                     \n",
       "18                                       91586.148438                                                                     \n",
       "19                                         -97.843719                                                                     \n",
       "\n",
       "    1-Silacyclopentadiene, 3-(diethylboryl)-4-ethyl-1,1-dimethyl-2-(3-methylbutyl)-5-trimethylstannyl-  \\\n",
       "0                                       -1.820315e+04                                                    \n",
       "1                                        5.044421e+02                                                    \n",
       "2                                       -1.959767e+03                                                    \n",
       "3                                        6.590790e+02                                                    \n",
       "..                                                ...                                                    \n",
       "16                                       2.388228e+06                                                    \n",
       "17                                      -6.415499e+02                                                    \n",
       "18                                       3.677882e+05                                                    \n",
       "19                                       4.018860e+02                                                    \n",
       "\n",
       "    D-Glucose, 4-O-[2,3,4,6-tetrakis-O-(trimethylsilyl)-б-D-glucopyranosyl]-2,3,5,6-tetrakis-O-(trimethylsilyl)-  \\\n",
       "0                                        50923.320312                                                              \n",
       "1                                         -446.764618                                                              \n",
       "2                                        19186.367188                                                              \n",
       "3                                         2694.312744                                                              \n",
       "..                                                ...                                                              \n",
       "16                                      117408.453125                                                              \n",
       "17                                        -970.719055                                                              \n",
       "18                                       13814.798828                                                              \n",
       "19                                        -329.434143                                                              \n",
       "\n",
       "    cis-15-Tetracosenoic acid, trimethylsilyl ester  \\\n",
       "0                                      65814.773438   \n",
       "1                                        847.857422   \n",
       "2                                       8088.136230   \n",
       "3                                       1439.640747   \n",
       "..                                              ...   \n",
       "16                                     -2189.736084   \n",
       "17                                       914.828064   \n",
       "18                                      1573.585693   \n",
       "19                                       163.390533   \n",
       "\n",
       "    6,10,14,18,22-Tetracosapentaen-2-ol, 3-bromo-2,6,10,15,19,23-hexamethyl-, (all-E)-  \n",
       "0                                       261807.640625                                   \n",
       "1                                         -442.908600                                   \n",
       "2                                        23176.537109                                   \n",
       "3                                        -1571.349731                                   \n",
       "..                                                ...                                   \n",
       "16                                        4597.953613                                   \n",
       "17                                         585.578552                                   \n",
       "18                                        2089.795654                                   \n",
       "19                                         353.952728                                   \n",
       "\n",
       "[20 rows x 10 columns]"
      ]
     },
     "execution_count": 12,
     "metadata": {},
     "output_type": "execute_result"
    }
   ],
   "source": [
    "# Take 2nd sheet\n",
    "pd.read_excel('data/concentrations.xlsx', 'Sheet2')"
   ]
  },
  {
   "cell_type": "code",
   "execution_count": 20,
   "metadata": {},
   "outputs": [
    {
     "name": "stdout",
     "output_type": "stream",
     "text": [
      "odict_keys(['Sheet1', 'Sheet2', 'Sheet3'])\n"
     ]
    },
    {
     "data": {
      "text/html": [
       "<div>\n",
       "<style scoped>\n",
       "    .dataframe tbody tr th:only-of-type {\n",
       "        vertical-align: middle;\n",
       "    }\n",
       "\n",
       "    .dataframe tbody tr th {\n",
       "        vertical-align: top;\n",
       "    }\n",
       "\n",
       "    .dataframe thead th {\n",
       "        text-align: right;\n",
       "    }\n",
       "</style>\n",
       "<table border=\"1\" class=\"dataframe\">\n",
       "  <thead>\n",
       "    <tr style=\"text-align: right;\">\n",
       "      <th></th>\n",
       "      <th>а-D-Glucopyranosiduronic acid, 3-(5-ethylhexahydro-2,4,6-trioxo-5-pyrimidinyl)-1,1-dimethylpropyl 2,3,4-tris-O-(trimethylsilyl)-, methyl ester</th>\n",
       "      <th>Hexopyranose, 1,2,3,4,6-pentakis-O-(trimethylsilyl)-</th>\n",
       "      <th>Hexopyranose, 1,2,3,4,6-pentakis-O-(trimethylsilyl)-.1</th>\n",
       "      <th>Spiro[isoquinoline-1,2'-indene],1,2,3,4,2',3'-tetrahydro-6'-hydroxy-6,7,3',7'-tetramethoxy-2-methyl-1'-oxo-</th>\n",
       "      <th>.psi.,.psi.-Carotene, 3,3',4,4'-tetradehydro-1,1',2,2'-tetrahydro-1,1'-dimethoxy-2,2'-dioxo-</th>\n",
       "      <th>Melibiose, octakis(trimethylsilyl)-</th>\n",
       "      <th>Prosta-5,13-dien-1-oic acid, 9,11,15-tris[(trimethylsilyl)oxy]-, trimethylsilyl ester, (5Z,9а,11а,13E,15S)-</th>\n",
       "      <th>7-Bromo-5-(2-chloro-phenyl)-3-(4-methoxy-benzylidene)-1,3-dihydro-benzo[e][1,4]diazepin-2-one</th>\n",
       "      <th>а-Tocopherol (vitamin E), trimethysilyl derivative</th>\n",
       "      <th>Zirconium, dichloro-[dimethylbis(2-methyl-3H-benz[e]indenyl)silane]</th>\n",
       "    </tr>\n",
       "  </thead>\n",
       "  <tbody>\n",
       "    <tr>\n",
       "      <th>0</th>\n",
       "      <td>507124.562500</td>\n",
       "      <td>189917.343750</td>\n",
       "      <td>582868.562500</td>\n",
       "      <td>19128.693359</td>\n",
       "      <td>15622.906250</td>\n",
       "      <td>744739.750000</td>\n",
       "      <td>13137.173828</td>\n",
       "      <td>158.641266</td>\n",
       "      <td>42181.695312</td>\n",
       "      <td>-43028.925781</td>\n",
       "    </tr>\n",
       "    <tr>\n",
       "      <th>1</th>\n",
       "      <td>9454.327148</td>\n",
       "      <td>457.068848</td>\n",
       "      <td>4702.050781</td>\n",
       "      <td>115.536400</td>\n",
       "      <td>1598.835083</td>\n",
       "      <td>3156.303467</td>\n",
       "      <td>2160.894531</td>\n",
       "      <td>-863.654236</td>\n",
       "      <td>-18.434906</td>\n",
       "      <td>8944.918945</td>\n",
       "    </tr>\n",
       "    <tr>\n",
       "      <th>2</th>\n",
       "      <td>49307.113281</td>\n",
       "      <td>123400.468750</td>\n",
       "      <td>98081.093750</td>\n",
       "      <td>5841.652344</td>\n",
       "      <td>2027.103271</td>\n",
       "      <td>77488.531250</td>\n",
       "      <td>5750.259277</td>\n",
       "      <td>-1240.025757</td>\n",
       "      <td>302.738739</td>\n",
       "      <td>-21416.132812</td>\n",
       "    </tr>\n",
       "    <tr>\n",
       "      <th>3</th>\n",
       "      <td>11006.019531</td>\n",
       "      <td>2254.103516</td>\n",
       "      <td>5705.356934</td>\n",
       "      <td>-76.605408</td>\n",
       "      <td>982.100769</td>\n",
       "      <td>2896.895264</td>\n",
       "      <td>1731.685669</td>\n",
       "      <td>-546.834656</td>\n",
       "      <td>-157.504745</td>\n",
       "      <td>26459.480469</td>\n",
       "    </tr>\n",
       "    <tr>\n",
       "      <th>...</th>\n",
       "      <td>...</td>\n",
       "      <td>...</td>\n",
       "      <td>...</td>\n",
       "      <td>...</td>\n",
       "      <td>...</td>\n",
       "      <td>...</td>\n",
       "      <td>...</td>\n",
       "      <td>...</td>\n",
       "      <td>...</td>\n",
       "      <td>...</td>\n",
       "    </tr>\n",
       "    <tr>\n",
       "      <th>16</th>\n",
       "      <td>39714.757812</td>\n",
       "      <td>-672.432373</td>\n",
       "      <td>-3042.298096</td>\n",
       "      <td>88908.203125</td>\n",
       "      <td>92910.437500</td>\n",
       "      <td>1332.892090</td>\n",
       "      <td>32087.824219</td>\n",
       "      <td>19266.949219</td>\n",
       "      <td>230.283798</td>\n",
       "      <td>53543.675781</td>\n",
       "    </tr>\n",
       "    <tr>\n",
       "      <th>17</th>\n",
       "      <td>9868.811523</td>\n",
       "      <td>-243.777557</td>\n",
       "      <td>2027.609253</td>\n",
       "      <td>-134.875809</td>\n",
       "      <td>2161.079834</td>\n",
       "      <td>1329.175659</td>\n",
       "      <td>4423.034668</td>\n",
       "      <td>-317.740326</td>\n",
       "      <td>42.735519</td>\n",
       "      <td>10203.259766</td>\n",
       "    </tr>\n",
       "    <tr>\n",
       "      <th>18</th>\n",
       "      <td>21233.472656</td>\n",
       "      <td>-1250.317871</td>\n",
       "      <td>-1290.885132</td>\n",
       "      <td>2406.536377</td>\n",
       "      <td>10165.042969</td>\n",
       "      <td>407.414062</td>\n",
       "      <td>-2076.692139</td>\n",
       "      <td>1673.608765</td>\n",
       "      <td>121.020676</td>\n",
       "      <td>18467.087891</td>\n",
       "    </tr>\n",
       "    <tr>\n",
       "      <th>19</th>\n",
       "      <td>1921.260010</td>\n",
       "      <td>-49.900234</td>\n",
       "      <td>408.694885</td>\n",
       "      <td>17.531906</td>\n",
       "      <td>633.037598</td>\n",
       "      <td>480.597595</td>\n",
       "      <td>-369.678558</td>\n",
       "      <td>-8.048265</td>\n",
       "      <td>-2.579257</td>\n",
       "      <td>2200.178711</td>\n",
       "    </tr>\n",
       "  </tbody>\n",
       "</table>\n",
       "<p>20 rows × 10 columns</p>\n",
       "</div>"
      ],
      "text/plain": [
       "    а-D-Glucopyranosiduronic acid, 3-(5-ethylhexahydro-2,4,6-trioxo-5-pyrimidinyl)-1,1-dimethylpropyl 2,3,4-tris-O-(trimethylsilyl)-, methyl ester  \\\n",
       "0                                       507124.562500                                                                                                \n",
       "1                                         9454.327148                                                                                                \n",
       "2                                        49307.113281                                                                                                \n",
       "3                                        11006.019531                                                                                                \n",
       "..                                                ...                                                                                                \n",
       "16                                       39714.757812                                                                                                \n",
       "17                                        9868.811523                                                                                                \n",
       "18                                       21233.472656                                                                                                \n",
       "19                                        1921.260010                                                                                                \n",
       "\n",
       "    Hexopyranose, 1,2,3,4,6-pentakis-O-(trimethylsilyl)-  \\\n",
       "0                                       189917.343750      \n",
       "1                                          457.068848      \n",
       "2                                       123400.468750      \n",
       "3                                         2254.103516      \n",
       "..                                                ...      \n",
       "16                                        -672.432373      \n",
       "17                                        -243.777557      \n",
       "18                                       -1250.317871      \n",
       "19                                         -49.900234      \n",
       "\n",
       "    Hexopyranose, 1,2,3,4,6-pentakis-O-(trimethylsilyl)-.1  \\\n",
       "0                                       582868.562500        \n",
       "1                                         4702.050781        \n",
       "2                                        98081.093750        \n",
       "3                                         5705.356934        \n",
       "..                                                ...        \n",
       "16                                       -3042.298096        \n",
       "17                                        2027.609253        \n",
       "18                                       -1290.885132        \n",
       "19                                         408.694885        \n",
       "\n",
       "    Spiro[isoquinoline-1,2'-indene],1,2,3,4,2',3'-tetrahydro-6'-hydroxy-6,7,3',7'-tetramethoxy-2-methyl-1'-oxo-  \\\n",
       "0                                        19128.693359                                                             \n",
       "1                                          115.536400                                                             \n",
       "2                                         5841.652344                                                             \n",
       "3                                          -76.605408                                                             \n",
       "..                                                ...                                                             \n",
       "16                                       88908.203125                                                             \n",
       "17                                        -134.875809                                                             \n",
       "18                                        2406.536377                                                             \n",
       "19                                          17.531906                                                             \n",
       "\n",
       "    .psi.,.psi.-Carotene, 3,3',4,4'-tetradehydro-1,1',2,2'-tetrahydro-1,1'-dimethoxy-2,2'-dioxo-  \\\n",
       "0                                        15622.906250                                              \n",
       "1                                         1598.835083                                              \n",
       "2                                         2027.103271                                              \n",
       "3                                          982.100769                                              \n",
       "..                                                ...                                              \n",
       "16                                       92910.437500                                              \n",
       "17                                        2161.079834                                              \n",
       "18                                       10165.042969                                              \n",
       "19                                         633.037598                                              \n",
       "\n",
       "    Melibiose, octakis(trimethylsilyl)-  \\\n",
       "0                         744739.750000   \n",
       "1                           3156.303467   \n",
       "2                          77488.531250   \n",
       "3                           2896.895264   \n",
       "..                                  ...   \n",
       "16                          1332.892090   \n",
       "17                          1329.175659   \n",
       "18                           407.414062   \n",
       "19                           480.597595   \n",
       "\n",
       "    Prosta-5,13-dien-1-oic acid, 9,11,15-tris[(trimethylsilyl)oxy]-, trimethylsilyl ester, (5Z,9а,11а,13E,15S)-  \\\n",
       "0                                        13137.173828                                                             \n",
       "1                                         2160.894531                                                             \n",
       "2                                         5750.259277                                                             \n",
       "3                                         1731.685669                                                             \n",
       "..                                                ...                                                             \n",
       "16                                       32087.824219                                                             \n",
       "17                                        4423.034668                                                             \n",
       "18                                       -2076.692139                                                             \n",
       "19                                        -369.678558                                                             \n",
       "\n",
       "    7-Bromo-5-(2-chloro-phenyl)-3-(4-methoxy-benzylidene)-1,3-dihydro-benzo[e][1,4]diazepin-2-one  \\\n",
       "0                                          158.641266                                               \n",
       "1                                         -863.654236                                               \n",
       "2                                        -1240.025757                                               \n",
       "3                                         -546.834656                                               \n",
       "..                                                ...                                               \n",
       "16                                       19266.949219                                               \n",
       "17                                        -317.740326                                               \n",
       "18                                        1673.608765                                               \n",
       "19                                          -8.048265                                               \n",
       "\n",
       "    а-Tocopherol (vitamin E), trimethysilyl derivative  \\\n",
       "0                                        42181.695312    \n",
       "1                                          -18.434906    \n",
       "2                                          302.738739    \n",
       "3                                         -157.504745    \n",
       "..                                                ...    \n",
       "16                                         230.283798    \n",
       "17                                          42.735519    \n",
       "18                                         121.020676    \n",
       "19                                          -2.579257    \n",
       "\n",
       "    Zirconium, dichloro-[dimethylbis(2-methyl-3H-benz[e]indenyl)silane]  \n",
       "0                                       -43028.925781                    \n",
       "1                                         8944.918945                    \n",
       "2                                       -21416.132812                    \n",
       "3                                        26459.480469                    \n",
       "..                                                ...                    \n",
       "16                                       53543.675781                    \n",
       "17                                       10203.259766                    \n",
       "18                                       18467.087891                    \n",
       "19                                        2200.178711                    \n",
       "\n",
       "[20 rows x 10 columns]"
      ]
     },
     "execution_count": 20,
     "metadata": {},
     "output_type": "execute_result"
    }
   ],
   "source": [
    "# Get all sheets\n",
    "a = pd.read_excel('data/concentrations.xlsx', None)\n",
    "\n",
    "# Keys of dict to get dataframes\n",
    "print(a.keys())\n",
    "\n",
    "# 1st dataframe\n",
    "a['Sheet1']"
   ]
  },
  {
   "cell_type": "markdown",
   "metadata": {},
   "source": [
    "## Writing to files\n",
    "Opposite task for loading data is writing it to disk. Simple `to_csv()` method is designed for saving dataframe to csv file. As 1st argument you should pass desired filename, also there is a lot of optional arguments for csv format tuning.\n",
    "\n",
    "Moreover you can write to excel via `to_excel()` method."
   ]
  },
  {
   "cell_type": "markdown",
   "metadata": {},
   "source": [
    "Let's extract column from dataframe for the next section"
   ]
  },
  {
   "cell_type": "code",
   "execution_count": 24,
   "metadata": {},
   "outputs": [
    {
     "data": {
      "text/plain": [
       "0           James Cameron\n",
       "1          Gore Verbinski\n",
       "2              Sam Mendes\n",
       "3       Christopher Nolan\n",
       "              ...        \n",
       "4912                  NaN\n",
       "4913     Benjamin Roberds\n",
       "4914          Daniel Hsia\n",
       "4915             Jon Gunn\n",
       "Name: director_name, Length: 4916, dtype: object"
      ]
     },
     "execution_count": 24,
     "metadata": {},
     "output_type": "execute_result"
    }
   ],
   "source": [
    "# Take 1 column-series\n",
    "# Note NaN in 4912 position more about it below\n",
    "directors = movie['director_name']\n",
    "directors"
   ]
  },
  {
   "cell_type": "code",
   "execution_count": 25,
   "metadata": {},
   "outputs": [],
   "source": [
    "# Write dataframe directors to the file filename\n",
    "directors.to_csv('filename')"
   ]
  },
  {
   "cell_type": "code",
   "execution_count": 27,
   "metadata": {},
   "outputs": [],
   "source": [
    "# Write dataframe to excel file on the sheet with name Sheet1\n",
    "directors.to_excel('file.xlsx', sheet_name='Sheet1')"
   ]
  },
  {
   "cell_type": "markdown",
   "metadata": {},
   "source": [
    "## Some series attributes\n",
    "Series and dataframes have many common attributes and methods with the same names. Thus you can learn most series methods and then extrapolate this knowledge on dataframes. Below you will find the number of shared attributes and methods "
   ]
  },
  {
   "cell_type": "code",
   "execution_count": 39,
   "metadata": {},
   "outputs": [
    {
     "data": {
      "text/plain": [
       "192"
      ]
     },
     "execution_count": 39,
     "metadata": {},
     "output_type": "execute_result"
    }
   ],
   "source": [
    "len(set(filter(lambda x: not x.startswith('_'), dir(pd.Series)))\n",
    "    .intersection(filter(lambda x: not x.startswith('_'), dir(pd.DataFrame))))"
   ]
  },
  {
   "cell_type": "markdown",
   "metadata": {},
   "source": [
    "These attributes contain name of series, type of its values and index"
   ]
  },
  {
   "cell_type": "code",
   "execution_count": 8,
   "metadata": {},
   "outputs": [
    {
     "name": "stdout",
     "output_type": "stream",
     "text": [
      "director_name\n",
      "object\n",
      "RangeIndex(start=0, stop=4916, step=1)\n"
     ]
    }
   ],
   "source": [
    "print(directors.name)\n",
    "print(directors.dtype)\n",
    "print(directors.index)"
   ]
  },
  {
   "cell_type": "markdown",
   "metadata": {},
   "source": [
    "In `values` you can find content of series"
   ]
  },
  {
   "cell_type": "code",
   "execution_count": 9,
   "metadata": {},
   "outputs": [
    {
     "data": {
      "text/plain": [
       "array(['James Cameron', 'Gore Verbinski', 'Sam Mendes', ...,\n",
       "       'Benjamin Roberds', 'Daniel Hsia', 'Jon Gunn'], dtype=object)"
      ]
     },
     "execution_count": 9,
     "metadata": {},
     "output_type": "execute_result"
    }
   ],
   "source": [
    "directors.values"
   ]
  },
  {
   "cell_type": "markdown",
   "metadata": {},
   "source": [
    "Size of Series can be found in several ways"
   ]
  },
  {
   "cell_type": "code",
   "execution_count": 71,
   "metadata": {},
   "outputs": [
    {
     "name": "stdout",
     "output_type": "stream",
     "text": [
      "4916\n",
      "(4916,)\n",
      "4814\n"
     ]
    }
   ],
   "source": [
    "# Number of elements in series\n",
    "print(directors.size)\n",
    "# Shape of array with values\n",
    "print(directors.shape)\n",
    "# Number of non NA values\n",
    "print(directors.count())"
   ]
  },
  {
   "cell_type": "markdown",
   "metadata": {},
   "source": [
    "As you can see last number is distinct from the previous two. `count()` method returns number of non NA values i.e. values that present in series. NA and its synonyms NaN, null are marks that there is no data for cell, usually this is due to absence of data. We will call missed values NA because it is the most widely used word from these 3."
   ]
  },
  {
   "cell_type": "markdown",
   "metadata": {},
   "source": [
    "Whether a Series has missing values - NA"
   ]
  },
  {
   "cell_type": "code",
   "execution_count": 88,
   "metadata": {},
   "outputs": [
    {
     "data": {
      "text/plain": [
       "True"
      ]
     },
     "execution_count": 88,
     "metadata": {},
     "output_type": "execute_result"
    }
   ],
   "source": [
    "directors.hasnans"
   ]
  },
  {
   "cell_type": "markdown",
   "metadata": {},
   "source": [
    "## Some series methods\n",
    "Several frequently used methods for looking at your data"
   ]
  },
  {
   "cell_type": "code",
   "execution_count": 96,
   "metadata": {},
   "outputs": [
    {
     "data": {
      "text/plain": [
       "0        James Cameron\n",
       "1       Gore Verbinski\n",
       "2           Sam Mendes\n",
       "3    Christopher Nolan\n",
       "4          Doug Walker\n",
       "Name: director_name, dtype: object"
      ]
     },
     "execution_count": 96,
     "metadata": {},
     "output_type": "execute_result"
    }
   ],
   "source": [
    "# Start of Series\n",
    "directors.head()"
   ]
  },
  {
   "cell_type": "code",
   "execution_count": 97,
   "metadata": {},
   "outputs": [
    {
     "data": {
      "text/plain": [
       "4909     Anthony Vallone\n",
       "4910        Edward Burns\n",
       "4911         Scott Smith\n",
       "4912                 NaN\n",
       "4913    Benjamin Roberds\n",
       "4914         Daniel Hsia\n",
       "4915            Jon Gunn\n",
       "Name: director_name, dtype: object"
      ]
     },
     "execution_count": 97,
     "metadata": {},
     "output_type": "execute_result"
    }
   ],
   "source": [
    "# End of Series\n",
    "directors.tail(7)"
   ]
  },
  {
   "cell_type": "markdown",
   "metadata": {},
   "source": [
    "Both `head()` and `tail()` methods have 1 optional argument `n` specifying number of showed rows, 5 by default"
   ]
  },
  {
   "cell_type": "code",
   "execution_count": 44,
   "metadata": {},
   "outputs": [
    {
     "data": {
      "text/plain": [
       "array(['James Cameron', 'Gore Verbinski', 'Sam Mendes', ...,\n",
       "       'Scott Smith', 'Benjamin Roberds', 'Daniel Hsia'], dtype=object)"
      ]
     },
     "execution_count": 44,
     "metadata": {},
     "output_type": "execute_result"
    }
   ],
   "source": [
    "# Unique values in Series\n",
    "directors.unique()"
   ]
  },
  {
   "cell_type": "code",
   "execution_count": 46,
   "metadata": {},
   "outputs": [
    {
     "data": {
      "text/plain": [
       "2397"
      ]
     },
     "execution_count": 46,
     "metadata": {},
     "output_type": "execute_result"
    }
   ],
   "source": [
    "# Number of unique elements\n",
    "directors.nunique()"
   ]
  },
  {
   "cell_type": "code",
   "execution_count": 6,
   "metadata": {},
   "outputs": [
    {
     "data": {
      "text/plain": [
       "Steven Spielberg    26\n",
       "Woody Allen         22\n",
       "Martin Scorsese     20\n",
       "Clint Eastwood      20\n",
       "                    ..\n",
       "Ian Iqbal Rashid     1\n",
       "S.R. Bindler         1\n",
       "Mike Gabriel         1\n",
       "Michael McGowan      1\n",
       "Name: director_name, Length: 2397, dtype: int64"
      ]
     },
     "execution_count": 6,
     "metadata": {},
     "output_type": "execute_result"
    }
   ],
   "source": [
    "# Number of occurences of each element in series\n",
    "directors.value_counts()"
   ]
  },
  {
   "cell_type": "code",
   "execution_count": 41,
   "metadata": {},
   "outputs": [
    {
     "data": {
      "text/plain": [
       "NaN                 0.020749\n",
       "Steven Spielberg    0.005289\n",
       "Woody Allen         0.004475\n",
       "Clint Eastwood      0.004068\n",
       "                      ...   \n",
       "David Duchovny      0.000203\n",
       "John Gatins         0.000203\n",
       "Enrique Begne       0.000203\n",
       "Julie Davis         0.000203\n",
       "Name: director_name, Length: 2398, dtype: float64"
      ]
     },
     "execution_count": 41,
     "metadata": {},
     "output_type": "execute_result"
    }
   ],
   "source": [
    "# Frequency of elements including NA \n",
    "# In addition this method has sort argument and argument for binning data\n",
    "directors.value_counts(normalize=True, dropna=False)"
   ]
  },
  {
   "cell_type": "markdown",
   "metadata": {},
   "source": [
    "## Some conversion methods\n",
    "Here we will examine few methods for conversion series object to another type"
   ]
  },
  {
   "cell_type": "code",
   "execution_count": 6,
   "metadata": {},
   "outputs": [
    {
     "data": {
      "text/plain": [
       "['James Cameron',\n",
       " 'Gore Verbinski',\n",
       " 'Sam Mendes',\n",
       " 'Christopher Nolan',\n",
       " 'Doug Walker']"
      ]
     },
     "execution_count": 6,
     "metadata": {},
     "output_type": "execute_result"
    }
   ],
   "source": [
    "# Conversion of values to list, index is dropped\n",
    "directors.tolist()[:5]"
   ]
  },
  {
   "cell_type": "code",
   "execution_count": 7,
   "metadata": {},
   "outputs": [
    {
     "name": "stdout",
     "output_type": "stream",
     "text": [
      "0 James Cameron\n",
      "1 Gore Verbinski\n",
      "2 Sam Mendes\n",
      "3 Christopher Nolan\n",
      "4 Doug Walker\n"
     ]
    }
   ],
   "source": [
    "# Conversion to dictionary index: value\n",
    "a = directors.to_dict()\n",
    "\n",
    "# First items of dict\n",
    "for i, (key, value) in enumerate(a.items()):\n",
    "    print(key, value)\n",
    "    if i >= 4:\n",
    "        break"
   ]
  },
  {
   "cell_type": "code",
   "execution_count": 7,
   "metadata": {},
   "outputs": [
    {
     "data": {
      "text/html": [
       "<div>\n",
       "<style scoped>\n",
       "    .dataframe tbody tr th:only-of-type {\n",
       "        vertical-align: middle;\n",
       "    }\n",
       "\n",
       "    .dataframe tbody tr th {\n",
       "        vertical-align: top;\n",
       "    }\n",
       "\n",
       "    .dataframe thead th {\n",
       "        text-align: right;\n",
       "    }\n",
       "</style>\n",
       "<table border=\"1\" class=\"dataframe\">\n",
       "  <thead>\n",
       "    <tr style=\"text-align: right;\">\n",
       "      <th></th>\n",
       "      <th>director_name</th>\n",
       "    </tr>\n",
       "  </thead>\n",
       "  <tbody>\n",
       "    <tr>\n",
       "      <th>0</th>\n",
       "      <td>James Cameron</td>\n",
       "    </tr>\n",
       "    <tr>\n",
       "      <th>1</th>\n",
       "      <td>Gore Verbinski</td>\n",
       "    </tr>\n",
       "    <tr>\n",
       "      <th>2</th>\n",
       "      <td>Sam Mendes</td>\n",
       "    </tr>\n",
       "    <tr>\n",
       "      <th>3</th>\n",
       "      <td>Christopher Nolan</td>\n",
       "    </tr>\n",
       "    <tr>\n",
       "      <th>...</th>\n",
       "      <td>...</td>\n",
       "    </tr>\n",
       "    <tr>\n",
       "      <th>4912</th>\n",
       "      <td>NaN</td>\n",
       "    </tr>\n",
       "    <tr>\n",
       "      <th>4913</th>\n",
       "      <td>Benjamin Roberds</td>\n",
       "    </tr>\n",
       "    <tr>\n",
       "      <th>4914</th>\n",
       "      <td>Daniel Hsia</td>\n",
       "    </tr>\n",
       "    <tr>\n",
       "      <th>4915</th>\n",
       "      <td>Jon Gunn</td>\n",
       "    </tr>\n",
       "  </tbody>\n",
       "</table>\n",
       "<p>4916 rows × 1 columns</p>\n",
       "</div>"
      ],
      "text/plain": [
       "          director_name\n",
       "0         James Cameron\n",
       "1        Gore Verbinski\n",
       "2            Sam Mendes\n",
       "3     Christopher Nolan\n",
       "...                 ...\n",
       "4912                NaN\n",
       "4913   Benjamin Roberds\n",
       "4914        Daniel Hsia\n",
       "4915           Jon Gunn\n",
       "\n",
       "[4916 rows x 1 columns]"
      ]
     },
     "execution_count": 7,
     "metadata": {},
     "output_type": "execute_result"
    }
   ],
   "source": [
    "# Conversion of Series to DataFrame\n",
    "directors.to_frame()"
   ]
  }
 ],
 "metadata": {
  "kernelspec": {
   "display_name": "Python 3",
   "language": "python",
   "name": "python3"
  },
  "language_info": {
   "codemirror_mode": {
    "name": "ipython",
    "version": 3
   },
   "file_extension": ".py",
   "mimetype": "text/x-python",
   "name": "python",
   "nbconvert_exporter": "python",
   "pygments_lexer": "ipython3",
   "version": "3.6.4"
  }
 },
 "nbformat": 4,
 "nbformat_minor": 2
}
