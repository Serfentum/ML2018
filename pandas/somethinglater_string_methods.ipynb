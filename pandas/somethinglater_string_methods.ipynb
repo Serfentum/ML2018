{
 "cells": [
  {
   "cell_type": "markdown",
   "metadata": {},
   "source": [
    "# Series string methods\n",
    "If you working with text dataset it is quite a common task to clean it, split texts or extract some information about samples from their text. To do it we can take advantage of pandas ufuncs"
   ]
  },
  {
   "cell_type": "code",
   "execution_count": 3,
   "metadata": {},
   "outputs": [],
   "source": [
    "import numpy as np\n",
    "import pandas as pd\n",
    "# Restricting number of displaying rows, just for convenience\n",
    "pd.set_option('max_rows', 8)"
   ]
  },
  {
   "cell_type": "code",
   "execution_count": 4,
   "metadata": {},
   "outputs": [],
   "source": [
    "movie = pd.read_csv('data/movie.csv')\n",
    "# Take 1 column-series\n",
    "directors = movie['director_name']"
   ]
  },
  {
   "cell_type": "code",
   "execution_count": 15,
   "metadata": {},
   "outputs": [
    {
     "data": {
      "text/plain": [
       "0       13.0\n",
       "1       14.0\n",
       "2       10.0\n",
       "3       17.0\n",
       "        ... \n",
       "4912     NaN\n",
       "4913    16.0\n",
       "4914    11.0\n",
       "4915     8.0\n",
       "Name: director_name, Length: 4916, dtype: float64"
      ]
     },
     "execution_count": 15,
     "metadata": {},
     "output_type": "execute_result"
    }
   ],
   "source": [
    "# Number of characters in string\n",
    "directors.str.len()"
   ]
  },
  {
   "cell_type": "code",
   "execution_count": 16,
   "metadata": {},
   "outputs": [
    {
     "data": {
      "text/plain": [
       "0       False\n",
       "1       False\n",
       "2       False\n",
       "3       False\n",
       "        ...  \n",
       "4912      NaN\n",
       "4913    False\n",
       "4914    False\n",
       "4915    False\n",
       "Name: director_name, Length: 4916, dtype: object"
      ]
     },
     "execution_count": 16,
     "metadata": {},
     "output_type": "execute_result"
    }
   ],
   "source": [
    "# Starting with something specific\n",
    "is_starts_with_a = directors.str.startswith('A')\n",
    "is_ends_with_z = directors.str.endswith('z')\n",
    "is_starts_with_a"
   ]
  },
  {
   "cell_type": "code",
   "execution_count": 14,
   "metadata": {},
   "outputs": [
    {
     "data": {
      "text/plain": [
       "(True, False)"
      ]
     },
     "execution_count": 14,
     "metadata": {},
     "output_type": "execute_result"
    }
   ],
   "source": [
    "# Whether some value is True or all values are True in a series\n",
    "is_starts_with_a.any(), is_starts_with_a.all()"
   ]
  },
  {
   "cell_type": "code",
   "execution_count": 34,
   "metadata": {},
   "outputs": [
    {
     "data": {
      "text/plain": [
       "0           [James, Cameron]\n",
       "1          [Gore, Verbinski]\n",
       "2              [Sam, Mendes]\n",
       "3       [Christopher, Nolan]\n",
       "                ...         \n",
       "4912                     NaN\n",
       "4913     [Benjamin, Roberds]\n",
       "4914          [Daniel, Hsia]\n",
       "4915             [Jon, Gunn]\n",
       "Name: director_name, Length: 4916, dtype: object"
      ]
     },
     "execution_count": 34,
     "metadata": {},
     "output_type": "execute_result"
    }
   ],
   "source": [
    "# Split strings to a list\n",
    "directors.str.split(' ')"
   ]
  },
  {
   "cell_type": "code",
   "execution_count": 5,
   "metadata": {},
   "outputs": [
    {
     "name": "stdout",
     "output_type": "stream",
     "text": [
      "0          Cameron\n",
      "1        Verbinski\n",
      "2           Mendes\n",
      "3            Nolan\n",
      "           ...    \n",
      "4912           NaN\n",
      "4913       Roberds\n",
      "4914          Hsia\n",
      "4915          Gunn\n",
      "Name: surname, Length: 4916, dtype: object\n"
     ]
    },
    {
     "data": {
      "text/html": [
       "<div>\n",
       "<style scoped>\n",
       "    .dataframe tbody tr th:only-of-type {\n",
       "        vertical-align: middle;\n",
       "    }\n",
       "\n",
       "    .dataframe tbody tr th {\n",
       "        vertical-align: top;\n",
       "    }\n",
       "\n",
       "    .dataframe thead th {\n",
       "        text-align: right;\n",
       "    }\n",
       "</style>\n",
       "<table border=\"1\" class=\"dataframe\">\n",
       "  <thead>\n",
       "    <tr style=\"text-align: right;\">\n",
       "      <th></th>\n",
       "      <th>name</th>\n",
       "    </tr>\n",
       "  </thead>\n",
       "  <tbody>\n",
       "    <tr>\n",
       "      <th>0</th>\n",
       "      <td>James</td>\n",
       "    </tr>\n",
       "    <tr>\n",
       "      <th>1</th>\n",
       "      <td>Gore</td>\n",
       "    </tr>\n",
       "    <tr>\n",
       "      <th>2</th>\n",
       "      <td>Sam</td>\n",
       "    </tr>\n",
       "    <tr>\n",
       "      <th>3</th>\n",
       "      <td>Christopher</td>\n",
       "    </tr>\n",
       "    <tr>\n",
       "      <th>...</th>\n",
       "      <td>...</td>\n",
       "    </tr>\n",
       "    <tr>\n",
       "      <th>4912</th>\n",
       "      <td>NaN</td>\n",
       "    </tr>\n",
       "    <tr>\n",
       "      <th>4913</th>\n",
       "      <td>Benjamin</td>\n",
       "    </tr>\n",
       "    <tr>\n",
       "      <th>4914</th>\n",
       "      <td>Daniel</td>\n",
       "    </tr>\n",
       "    <tr>\n",
       "      <th>4915</th>\n",
       "      <td>Jon</td>\n",
       "    </tr>\n",
       "  </tbody>\n",
       "</table>\n",
       "<p>4916 rows × 1 columns</p>\n",
       "</div>"
      ],
      "text/plain": [
       "             name\n",
       "0           James\n",
       "1            Gore\n",
       "2             Sam\n",
       "3     Christopher\n",
       "...           ...\n",
       "4912          NaN\n",
       "4913     Benjamin\n",
       "4914       Daniel\n",
       "4915          Jon\n",
       "\n",
       "[4916 rows x 1 columns]"
      ]
     },
     "execution_count": 5,
     "metadata": {},
     "output_type": "execute_result"
    }
   ],
   "source": [
    "name = directors.str.extract(r'(?P<name>\\w+)', expand=True)\n",
    "family = directors.str.extract(r'(?P<surname> \\w+)', expand=False)\n",
    "print(family)\n",
    "name"
   ]
  },
  {
   "cell_type": "code",
   "execution_count": 46,
   "metadata": {},
   "outputs": [
    {
     "data": {
      "text/plain": [
       "0       2.0\n",
       "1       2.0\n",
       "2       2.0\n",
       "3       1.0\n",
       "       ... \n",
       "4912    NaN\n",
       "4913    2.0\n",
       "4914    1.0\n",
       "4915    0.0\n",
       "Name: director_name, Length: 4916, dtype: float64"
      ]
     },
     "execution_count": 46,
     "metadata": {},
     "output_type": "execute_result"
    }
   ],
   "source": [
    "# Count something in string\n",
    "directors.str.count('e')"
   ]
  },
  {
   "cell_type": "code",
   "execution_count": 70,
   "metadata": {},
   "outputs": [
    {
     "data": {
      "text/plain": [
       "\"James Cameron-Gore Verbinski-Sam Mendes-Christopher Nolan-Doug Walker-Andrew Stanton-Sam Raimi-Nathan Greno-Joss Whedon-David Yates-Zack Snyder-Bryan Singer-Marc Forster-Gore Verbinski-Gore Verbinski-Zack Snyder-Andrew Adamson-Joss Whedon-Rob Marshall-Barry Sonnenfeld-Peter Jackson-Marc Webb-Ridley Scott-Peter Jackson-Chris Weitz-Peter Jackson-James Cameron-Anthony Russo-Peter Berg-Colin Trevorrow-Sam Mendes-Sam Raimi-Shane Black-Tim Burton-Brett Ratner-Dan Scanlon-Michael Bay-Michael Bay-Sam Raimi-Marc Webb-Joseph Kosinski-John Lasseter-Martin Campbell-Lee Unkrich-McG-James Wan-Marc Forster-Bryan Singer-J.J. Abrams-Bryan Singer-Baz Luhrmann-Mike Newell-Guillermo del Toro-Michael Bay-Steven Spielberg-Peter Sohn-Mark Andrews-Justin Lin-Andrew Stanton-Brett Ratner-Roland Emmerich-Robert Zemeckis-Lana Wachowski-David Yates-Andrew Adamson-Bryan Singer-Christopher Nolan-Pete Docter-Rob Letterman-Jon Favreau-Martin Scorsese-Barry Sonnenfeld-Rob Cohen-David Ayer-Tom Shadyac-Doug Liman-Kevin Reynolds-Stephen Sommers-Pete Docter-Jon Favreau-Jon Favreau-Rupert Sanders-Robert Stromberg-Matt Reeves-Roland Joffé-Carl Rinsch-Anthony Russo-Mike Mitchell-Brad Bird-Don Hall-Rich Moore-Robert Zemeckis-Roland Emmerich-Dean DeBlois-Jonathan Mostow-James Gunn-Christopher Nolan-Christopher Nolan-Hideaki Anno-Peter Jackson-Rob Cohen-David Fincher-Matthew Vaughn-Francis Lawrence-Jon Turteltaub-Wolfgang Petersen-James Bobin-Chris Miller-Duncan Jones-Alan Taylor-Michael Apted-Michael Bay-Michael Bay-Oliver Stone-David Yates-Mike Newell-Peter Berg-Francis Lawrence-Tim Burton-Brad Bird-Christopher Nolan-Eric Darnell-Shawn Levy-Gavin Hood-Lana Wachowski-Chris Buck-Lana Wachowski-Alan Taylor-George Miller-Ron Howard-Kenneth Branagh-Byron Howard-Hoyt Yeatman-Jonathan Liebesman-Tim Burton-Christopher McQuarrie-Joe Johnston-Steve Hickner-Jennifer Yuh Nelson-M. Night Shyamalan-J.J. Abrams-Roland Emmerich-Simon Wells-David Bowers-Joe Wright-Rob Minkoff-Wolfgang Petersen-Eric Darnell-Lee Tamahori-Paul Feig-Michael Bay-Barry Sonnenfeld-Robert Zemeckis-Alessandro Carloni-Brad Bird-Peter Ramsey-Dean Parisot-Edward Zwick-Ridley Scott-J.J. Abrams-Sam Raimi-Dean DeBlois-Alex Proyas-Rob Cohen-Zack Snyder-Richard Donner-Ang Lee-Jon M. Chu-Breck Eisner-Hironobu Sakaguchi-Joe Johnston-Michael Apted-Peter Weir-Bill Condon-George Miller-Louis Leterrier-Steven Spielberg-Alejandro G. Iñárritu-David Soren-Gore Verbinski-Eric Darnell-Paul Greengrass-Mark Osborne-Peyton Reed-Francis Lawrence-Tim Johnson-Steven Spielberg-Michael Bay-Chris Miller-Phillip Noyce-Darren Aronofsky-Steven Spielberg-Alfonso Cuarón-Baz Luhrmann-M. Night Shyamalan-Eric Leighton-Matt Birch-Shawn Levy-Tom McGrath-Chris Columbus-Robert Schwentke-Gore Verbinski-Matt Birch-Francis Lawrence-Ron Howard-Carlos Saldanha-Bryan Singer-Justin Lin-Guy Ritchie-Louis Leterrier-Paul Verhoeven-John McTiernan-Tony Gilroy-Joel Schumacher-Ron Howard-Roland Emmerich-John Woo-Wolfgang Petersen-Tim Story-Ang Lee-Mark Steven Johnson-Paul Greengrass-McG-Ridley Scott-Rob Minkoff-Neill Blomkamp-David Twohy-José Padilha-Lana Wachowski-James L. Brooks-James Mangold-Joseph Kosinski-George Lucas-George Lucas-Pete Docter-James Mangold-George Lucas-Kirk De Micco-Frédéric Forestier-John Woo-Cedric Nicolas-Troyan-Jonathan Liebesman-Alfonso Cuarón-Roger Donaldson-Dave Green-Josh Trank-Shawn Levy-Brad Peyton-Roger Spottiswoode-Roland Emmerich-Steven Soderbergh-Doug Liman-Robert Schwentke-Martin Scorsese-Rob Letterman-Michel Gondry-Noam Murro-Raja Gosnell-Will Finn-Robert Schwentke-Shawn Levy-Raja Gosnell-Jan de Bont-Gavin Hood-Len Wiseman-Peter Jackson-Frank Coraci-Michael Mann-Bo Welch-Alex Proyas-Ridley Scott-Rob Minkoff-Ron Clements-Ridley Scott-Christopher Barnard-Michael Bay-Peter Chelsom-Dominic Sena-Ridley Scott-Steven Spielberg-Chris Columbus-Martin Campbell-Tim Burton-James Cameron-Michael Mann-Ridley Scott-James Cameron-Tony Scott-Paul Weitz-Adam McKay-Chuck Russell-Quentin Tarantino-Gary Trousdale-Mark Dindal-Simon West-Jon Turteltaub-Stefen Fangmeier-Spike Jonze-Chris Wedge-Florian Henckel von Donnersmarck-Peter Hyams-Edward Zwick-Martin Scorsese-Joel Schumacher-Paul Verhoeven-Tom Tykwer-Zack Snyder-Pitof-Brett Ratner-Ron Clements-Brad Silberling-Patrick Hughes-Ericson Core-Lawrence Guterman-Ron Howard-Ron Underwood-Paul Greengrass-Steve Martino-David Mamet-Stephen Sommers-Martin Scorsese-Yimou Zhang-Ash Brannon-Frank Oz-Ridley Scott-Jay Roach-Luc Besson-Michael Patrick King-Bibo Bergeron-Steve Martino-Kenneth Branagh-Peter Jackson-Andrew Stanton-Peter Jackson-Peter Jackson-Sergey Bodrov-Simon West-Wally Pfister-Joe Johnston-Rupert Wyatt-Mark Waters-John Moore-John Lee Hancock-Brad Bird-Renny Harlin-Chris Columbus-Barry Sonnenfeld-John Lasseter-Tony Scott-Brett Ratner-Robert Zemeckis-Phil Lord-Carlos Saldanha-Ben Stiller-McG-Martin Scorsese-Tony Bancroft-Ben Stiller-David Fincher-John McTiernan-Guy Ritchie-Timur Bekmambetov-Gary Trousdale-Walt Becker-Bryan Singer-Dennis Dugan-Chris Columbus-Steven Spielberg-Rob Minkoff-Robert Zemeckis-Paul Verhoeven-Sydney Pollack-Thor Freudenthal-Jan de Bont-Jon M. Chu-Phillip Noyce-Tony Scott-Brian De Palma-Carlos Saldanha-Chris Columbus-Mick Jackson-Alan J. Pakula-Kathryn Bigelow-John Milius-Ron Howard-Andrey Konchalovskiy-Gary Ross-Jan de Bont-Robert Zemeckis-George Miller-Paul Greengrass-Wolfgang Petersen-Steven Soderbergh-Paul W.S. Anderson-Genndy Tartakovsky-Kevin Lima-Daniel Espinosa-Kevin Lima-Brett Ratner-Nancy Meyers-Tony Scott-Nancy Meyers-Steven Soderbergh-Roger Allers-Neil Burger-Jean-Jacques Annaud-Peter Berg-John McTiernan-Rob Marshall-Justin Lin-Sarah Smith-Martin Brest-Andrew Davis-Bob Fosse-Tarsem Singh-Edgar Wright-Jon Amiel-Peter Segal-Raja Gosnell-Pete Travis-Frank Coraci-George A. Romero-Brad Peyton-Doug Liman-Guillermo del Toro-David Fincher-Roger Spottiswoode-Tom Shadyac-Sylvester Stallone-Brian De Palma-Gary Ross-Todd Phillips-Tim Burton-Tim Johnson-Dean DeBlois-Gary Winick-Mimi Leder-Dean Parisot-Peter Segal-Mike Mitchell-Dennis Dugan-Peter Segal-Nancy Meyers-Martin Scorsese-Seth Gordon-Chris Wedge-John Woo-Adam Shankman-Sam Mendes-Dennis Dugan-Simon West-D.J. Caruso-Anthony Minghella-Albert Hughes-Les Mayfield-Jan de Bont-Joe Pytka-Shawn Levy-Scott Derrickson-Richard Donner-David Ayer-Ivan Reitman-Eric Brevig-Kelly Asbury-Frank Coraci-Stephen Hopkins-Jonathan Demme-Henry Jaglom-Genndy Tartakovsky-James Algar-Simon Wells-Ron Underwood-Dominic Sena-Martin Campbell-Vincent Ward-Steven Brill-Terry Gilliam-Tim Burton-Lucile Hadzihalilovic-Lee Tamahori-Jonathan Mostow-Roger Donaldson-Rob Cohen-Barry Cook-Roger Christian-Joe Dante-Rob Marshall-Richard Donner-Kevin Costner-George Miller-Breck Eisner-Antony Hoffman-Luc Besson-Jacques Perrin-Peter Hyams-Paul W.S. Anderson-Andrés Couturier-Ron Howard-Roger Allers-Brad Peyton-Cody Cameron-Brett Ratner-Joe Johnston-Dennis Dugan-John Singleton-Mark Osborne-Oliver Hirschbiegel-Des McAnuff-Yarrow Cheney-Stephen Norrington-Pierre Coffin-Roland Emmerich-Steven Spielberg-Eric Darnell-Alfonso Cuarón-Bryan Singer-Timur Bekmambetov-Michael Bay-Carlos Saldanha-Peter Segal-Adam Shankman-Renny Harlin-David Kellogg-Louis Leterrier-Dennis Dugan-Steven Spielberg-Thor Freudenthal-Martin Campbell-Mike Nichols-Bibo Bergeron-Bill Condon-F. Gary Gray-Steven Spielberg-Antoine Fuqua-Robert Luketic-Guy Ritchie-James L. Brooks-Gil Kenan-Barry Levinson-Jerry Zucker-Andy Tennant-Tarsem Singh-Florent-Emilio Siri-Don Bluth-Ron Shelton-Paul W.S. Anderson-David Pastor-Henry Selick-John Moore-M. Night Shyamalan-Kyle Balda-Zack Snyder-Brian De Palma-Barry Levinson-Clay Kaytis-Andy Tennant-Judd Apatow-Peter Berg-Adam McKay-Steve Carr-Mel Gibson-Sam Mendes-David Silverman-Frank Darabont-Renny Harlin-Jean-Jacques Annaud-M. Night Shyamalan-Betty Thomas-M. Night Shyamalan-Andrew Adamson-John Lasseter-Garry Marshall-Rob Cohen-Paul Tibbitt-Ron Howard-Quentin Tarantino-Steven Spielberg-Renny Harlin-Clark Johnson-Cameron Crowe-M. Night Shyamalan-Paul W.S. Anderson-Betty Thomas-Randall Wallace-Antoine Fuqua-Jonathan Frakes-Jonathan Liebesman-Tim Burton-Mike Nichols-Steven Spielberg-George Clooney-James Cameron-Oliver Stone-Gary Shore-Edward Zwick-Matthew Vaughn-Jean-Jacques Annaud-Ron Howard-Joel Schumacher-Andrzej Bartkowiak-Betty Thomas-Måns Mårlind-Adam Shankman-Gregory Hoblit-Gary McKendry-John McTiernan-Wych Kaosayananda-Mikael Salomon-Bobby Farrelly-Will Finn-Michael Mann-Kerry Conran-Michael Caton-Jones-Mikael Håfström-Renny Harlin-Phil Alden Robinson-David Slade-Frank Oz-Pierre Coffin-Joseph Ruben-Seth MacFarlane-Alejandro Amenábar-Kinka Usher-Bobby Farrelly-Michael Mann-Craig Gillespie-Ridley Scott-Jay Roach-Timur Bekmambetov-Jon Amiel-Rob Bowman-Doug Lefler-Steven Spielberg-Scott Waugh-Nancy Meyers-Chris Wedge-Lawrence Kasdan-Steven Spielberg-Lana Wachowski-Ron Howard-Michael Lembeck-Tom Hooper-Nora Ephron-Adam McKay-Martin Campbell-Todd Phillips-Angelina Jolie Pitt-Clint Eastwood-Renny Harlin-John Woo-Jon Turteltaub-Oliver Stone-Mike Newell-Larry Charles-Stanley Kubrick-Will Gluck-Glenn Ficarra-McG-David S. Goyer-John Milius-Mike Nichols-Paul W.S. Anderson-Paul W.S. Anderson-Renny Harlin-Taylor Hackford-Jon Favreau-David Fincher-McG-Michael Lehmann-Nora Ephron-Stuart Beattie-Roman Polanski-Rob Bowman-Frank Miller-Sydney Pollack-Baltasar Kormákur-Tom Tykwer-Jay Roach-David Bowers-Steven Spielberg-Lawrence Kasdan-Phillip Noyce-Daniel Lee-Keenen Ivory Wayans-Jonathan Mostow-Rob Reiner-Marco Schnabel-Demian Lichtenstein-Quentin Tarantino-Josh Gordon-Tim Hill-Zack Snyder-Jay Roach-David Frankel-Frank Darabont-Walt Becker-Mark Dindal-David Fincher-Doug Liman-Martin Campbell-Simon West-Peter Weir-Brenda Chapman-Steve Carr-Baltasar Kormákur-Lawrence Guterman-F. Gary Gray-Marc Lawrence-Eric Darnell-Peter Billingsley-Tony Scott-Adam Shankman-Wes Ball-Ryan Murphy-Brett Ratner-Robert Schwentke-Oliver Stone-Robert Redford-Michael Mann-Chuck Russell-Jay Russell-Christopher McQuarrie-Renny Harlin-Kenny Ortega-Steven Soderbergh-David McNally-Henry Selick-M. Night Shyamalan-Tony Scott-Brian Robbins-Todd Phillips-Brian Levant-Guillermo del Toro-Steven Zaillian-Chris Butler-Michael Caton-Jones-John Woo-Jon Avnet-Sam Fell-Kevin Donovan-Geoff Murphy-Kenneth Branagh-David O. Russell-Babak Najafi-Jean-Pierre Jeunet-Antoine Fuqua-Graham Annable-Griffin Dunne-Phil Lord-John Pasquin-Rob Bowman-Ruben Fleischer-Harold Ramis-Clint Eastwood-Kevin Macdonald-Tony Gilroy-Donald Petrie-Clark Johnson-Jorge Blanco-Stuart Baird-Joel Coen-Robert Lorenz-Martin Campbell-Peter Hyams-Harold Ramis-Jon Avnet-Harold Becker-Joe Wright-Robert Redford-Cameron Crowe-Tim Hill-Lee Tamahori-Scott Stewart-Patrick Gilmore-Paul W.S. Anderson-Tom Shadyac-Brian De Palma-Tony Bill-Rod Lurie-Walter Hill-Akiva Goldsman-Harald Zwart-Brian Robbins-Walter Salles-Ron Howard-Iain Softley-Frank Miller-David Koepp-Uwe Boll-Martin Campbell-Pou-Soi Cheang-John Dahl-Tim Miller-Stephen Herek-Clint Eastwood-Rob Letterman-Mark Waters-Brian Levant-Peter MacDonald-George Clooney-Frank Coraci-Marc Lawrence-Shawn Levy-Paul W.S. Anderson-Anthony Hemingway-Taylor Hackford-Sean Anders-Rob Cohen-Brett Ratner-Mark Neveldine-John Madden-Adam Shankman-Kevin Bray-Robert Zemeckis-Tim Hill-Jay Roach-Mike Gabriel-Richard Donner-Tom Shadyac-Andy Tennant-Sam Weisman-Jesse Dylan-Paul Greengrass-Shawn Levy-Brad Silberling-Antoine Fuqua-Wayne Wang-Tony Scott-Gabriele Muccino-Robert Schwentke-Barry Levinson-Brad Silberling-Quentin Tarantino-Frank Oz-Quentin Tarantino-Andrey Konchalovskiy-Robert Zemeckis-Tom Dey-Stuart Baird-Mark Waters-Rob Minkoff-Jimmy Hayward-David Fincher-Alan Parker-John Frankenheimer-Stephen Hopkins-Paul King-Akiva Schaffer-William Friedkin-Jon Turteltaub-Bobby Farrelly-Kent Alterman-Peter Lord-Clint Eastwood-Andrew Davis-Tony Scott-Joel Schumacher-Shekhar Kapur-Karyn Kusama-Ron Maxwell-Robert Butler-Karey Kirkpatrick-James Bobin-Jonathan Frakes-Steve Antin-Jean-Pierre Jeunet-Stanley Kubrick-Jim Gillespie-Guillermo del Toro-Gabriele Muccino-Walter Hill-Francis Ford Coppola-Cameron Crowe-Anthony Russo-Richard Lester-Martin Brest-Steven Zaillian-John Singleton-Don Bluth-Baz Luhrmann-Harold Becker-Scott Cooper-Clint Eastwood-F. Gary Gray-Robert Rodriguez-Jonathan Demme-Curtis Hanson-Steven Spielberg-Kathryn Bigelow-Peyton Reed-Phyllida Lloyd-Garry Marshall-Jay Chandrasekhar-Terrence Malick-David Dobkin-Milos Forman-Martin Scorsese-Pierre Morel-Paul Hunter-Bobby Farrelly-Steve Oedekerk-John Whitesell-Chris Weitz-Andrew Adamson-George Nolfi-Kevin Reynolds-Cameron Crowe-Seth MacFarlane-James L. Brooks-Tom Shadyac-Adam McKay-Steven Brill-J.J. Abrams-Steven Soderbergh-Donald Petrie-Phil Lord-Neil Jordan-Peyton Reed-Rawson Marshall Thurber-Chris Columbus-Sean Anders-Rob Marshall-Spike Lee-Brian Helgeland-Frank Marshall-Cameron Crowe-Alex Proyas-Tom Dey-Hideo Nakata-Glenn Ficarra-Peter Hewitt-Joe Roth-Bennett Miller-Wolfgang Petersen-Jaume Collet-Serra-Andy Fickman-James McTeigue-David Dobkin-Matthew O'Callaghan-Angela Robinson-Gary Fleder-Tommy Wirkola-Adrian Lyne-D.J. Caruso-Stephen Gaghan-Michael Bay-Jorge R. Gutiérrez-Richard Loncraine-Clint Eastwood-Ridley Scott-David Fincher-Christophe Gans-Howard Deutch-Jon Hurwitz-F. Gary Gray-Steven Quale-John Landis-Joe Dante-David Dobkin-Mimi Leder-Alexander Witt-Beeban Kidron-Carl Franklin-Steven Seagal-Robert Rodriguez-Danny Boyle-Garry Marshall-James McTeigue-Sam Raimi-Andrew Bergman-Tom Dey-Clint Eastwood-Barbet Schroeder-Richard Donner-Peter Webber-Rob Reiner-Andrew Niccol-John McTiernan-Clint Eastwood-Tom Tykwer-John Carpenter-Brad Bird-Wes Anderson-Gary Ross-Alan Parker-Stephen Herek-Jaume Collet-Serra-David Cronenberg-John Stockwell-Luc Besson-David Gordon Green-Jim Sheridan-Costa-Gavras-Patrick Read Johnson-Roland Joffé-Doug Liman-Tony Scott-William Friedkin-Mark Neveldine-Richard LaGravenese-Danny DeVito-Ben Stiller-George Armitage-Mike Nichols-Patrick Lussier-Andrzej Bartkowiak-James Wong-Renny Harlin-Richard Curtis-Steven Soderbergh-Steven Spielberg-Joe Wright-Neill Blomkamp-Phillip Noyce-David Fincher-Chuck Bowman-David O. Russell-Daniel Espinosa-Jerry Zucker-Iain Softley-James Mangold-Harold Ramis-Francis Ford Coppola-James Mangold-Olivier Megaton-Steven Soderbergh-Ben Stiller-Deepa Mehta-Warren Beatty-John McTiernan-Penny Marshall-Ted Kotcheff-Andrei Tarkovsky-Paul Bolger-Stephen Frears-P.J. Hogan-Joe Roth-Christopher Nolan-Jonathan Frakes-Jimmy Hayward-Edward Zwick-Tom Shadyac-Brad Furman-Terence Young-Brian Levant-Olivier Megaton-David Zucker-Donald Petrie-Eric Brevig-Garry Marshall-Alan J. Pakula-Joel Schumacher-Rob Reiner-Phillip Noyce-Robert Luketic-Denis Villeneuve-Antoine Fuqua-Dean Parisot-Keenen Ivory Wayans-James Bobin-Stephen Norrington-Thomas Carter-Roger Michell-Luis Llosa-David McNally-Richard Curtis-John Lasseter-Albert Hughes-Luis Llosa-Ron Shelton-Melville Shavelson-Jesse Dylan-Garth Jennings-Joel Zwick-Russell Mulcahy-Frank Coraci-Wayne Wang-Curtis Hanson-Frank Oz-Oliver Stone-David R. Ellis-Peter Howitt-John A. Davis-David Lynch-Julie Taymor-Sam Mendes-Richard Donner-Mathieu Kassovitz-John Gray-Harold Ramis-John Schultz-Sean Penn-Susan Stroman-Simon Wincer-Billy Bob Thornton-Oliver Stone-Roman Polanski-Stephen Sommers-Spike Lee-Yimou Zhang-Danny Pang-Barry Sonnenfeld-Mike Newell-George P. Cosmatos-Oliver Parker-Lawrence Kasanoff-Ben Affleck-Andrew Davis-Andy Tennant-Barry Levinson-George P. Cosmatos-Brian Gibson-Norman Ferguson-Michael Cimino-Len Wiseman-Paul McGuigan-Gus Van Sant-Betty Thomas-Louis Leterrier-Roger Kumble-Sydney Pollack-Burr Steers-Simon West-Phil Lord-Roger Michell-Peter Lord-John Hamburg-Reginald Hudlin-Paul Feig-Joseph L. Mankiewicz-Frank Coraci-Carl Franklin-Barbra Streisand-Mark Pellington-Larry Charles-John Glen-Catherine Hardwicke-John Herzfeld-Annabel Jankel-Andrew Niccol-Yimou Zhang-Julie Anne Robinson-Evan Goldberg-Sngmoo Lee-Jean-Pierre Jeunet-Curtis Hanson-Jamel Debbouze-Brian Helgeland-Gordon Chan-M. Night Shyamalan-Asger Leth-David Frankel-John G. Avildsen-David O. Russell-Anne Fletcher-Bruce Beresford-Robert Zemeckis-Luc Besson-Sam Taylor-Johnson-Robert Rodriguez-Joel Schumacher-Shawn Levy-Peter Berg-Penny Marshall-James Wan-David Fincher-Ken Kwapis-David Zucker-Wes Craven-Robert Zemeckis-Etan Cohen-Francis Ford Coppola-Nora Ephron-Brian Helgeland-Anthony Minghella-Bobby Farrelly-Frank Marshall-Nancy Meyers-Tim Story-Michael Mann-Taylor Hackford-Frank Miller-Pete Travis-John Hamburg-Bobby Farrelly-Oliver Stone-John Whitesell-Gore Verbinski-Burr Steers-Nick Cassavetes-David R. Ellis-Steven Spielberg-John Moore-Nicholas Stoller-Peter Chelsom-Joe Dante-Mark A.Z. Dippé-Kevin Reynolds-Brad Furman-Jaume Collet-Serra-Christopher Nolan-Sean Anders-Cal Brunker-Mel Gibson-John Glen-Nimród Antal-Ivan Reitman-David Koepp-Alejandro Agresti-Iain Softley-Peter Hedges-Paul Weiland-Clint Eastwood-Francis Ford Coppola-Mathieu Kassovitz-Steven Spielberg-John McTiernan-Colin Strause-Donald Petrie-Joan Chen-Marc Lawrence-Greg Mottola-Anne Fletcher-Wes Craven-Joel Schumacher-Oliver Stone-Jake Kasdan-Diane Keaton-Steven Quale-Kelly Makin-Mimi Leder-Bobby Farrelly-Steven Brill-Seth MacFarlane-Russell Mulcahy-Stephen Daldry-Roger Michell-Jim Sheridan-Christian Duguay-Chris Columbus-Chuck Russell-Sam Weisman-John Frankenheimer-Peter Hyams-Justin Chadwick-Pat O'Connor-Stephen Hopkins-Martin Scorsese-Penny Marshall-Olivier Megaton-Frederik Du Chau-Michael Caton-Jones-Irwin Winkler-Joseph Kahn-Harold Becker-Paul Verhoeven-Sofia Coppola-Barbet Schroeder-Stephen Kay-J.A. Bayona-Elaine May-Wes Anderson-Stephen Herek-John Carpenter-Jean-Pierre Jeunet-Dennie Gordon-Charles Shyer-Ken Kwapis-Ulu Grosbard-William Malone-Paul Weitz-Danny DeVito-Malcolm D. Lee-Jerry Jameson-Mic Rodgers-Christian Alvart-Gary Fleder-Christian Duguay-Jean-Marie Poiré-Danny Boyle-Brian Robbins-Marc F. Adler-Pierre Morel-Geoffrey Sax-D.J. Caruso-Iain Softley-Richard Shepard-Joel Coen-Peter Ho-Sun Chan-Sergey Bodrov-Joon-ho Bong-Bibo Bergeron-Jeff Nathanson-Alex Proyas-S.S. Rajamouli-Robert Schwentke-Michael Lehmann-Tim Burton-Joss Whedon-Charles S. Dutton-Richard Lester-Peter Segal-John Woo-Andy Tennant-Robert Luketic-Jonathan Lynn-Robert Rodriguez-David Carson-Kar-Wai Wong-Francis Lawrence-Yuefeng Song-Norman Jewison-Michael Apted-David Mirkin-Andy Fickman-Luis Mandoki-John Pasquin-Roman Polanski-Michael Apted-Stephen Herek-Lee Daniels-Ridley Scott-John Carpenter-David Twohy-Jeb Stuart-Steve Miner-Gil Kenan-Paul Thomas Anderson-David Leland-Gary Fleder-J Blakeson-Ryan Coogler-Ben Affleck-Kirk Jones-Ethan Coen-Jennifer Flackett-Ron Howard-Paul Thomas Anderson-Kevin Smith-Christian Ditter-Charles Martin Smith-Catherine Hardwicke-Nick Cassavetes-Les Mayfield-Rawson Marshall Thurber-Fedor Bondarchuk-Jonathan Mostow-Irvin Kershner-Steve Pink-Charles Martin Smith-John Frankenheimer-F. Gary Gray-Cameron Crowe-Rob Reiner-Scott Hicks-Mikael Håfström-Andrew Niccol-Andrew Bergman-Kirk De Micco-Chris Rock-Todd Phillips-Wilson Yip-Jay Roach-Tim Burton-Roland Joffé-Richard Donner-John Lee Hancock-Robert Rodriguez-Seth Gordon-Ethan Coen-David Frankel-Robert Wise-Seth Gordon-Martin Scorsese-Robert Luketic-Judd Apatow-Kevin Rodney Sullivan-Anthony Minghella-Curtis Hanson-Mike Mitchell-Frank Oz-Roger Donaldson-Wes Craven-Tarsem Singh-Randall Wallace-Randall Wallace-Kevin Munroe-Michael Tollin-Will Gluck-Nicholas Stoller-John Lee Hancock-Spike Lee-Judd Apatow-Walt Becker-Patrick Tatopoulos-Ken Kwapis-Dennis Dugan-Gary David Goldberg-Mike Newell-Paul W.S. Anderson-Tobe Hooper-Ethan Coen-John Moore-Andrew Niccol-Alan Poul-Luke Greenfield-Gil Junger-Michael Ritchie-Steven E. de Souza-Roman Polanski-Catherine Hardwicke-Jaume Collet-Serra-Mike Nichols-Clint Eastwood-Alexandre Aja-Michael Rymer-Stephen Hopkins-Gregory Hoblit-Hugh Wilson-Mike Hodges-Kevin Smith-Rob Cohen-Clint Eastwood-Scott Mann-Susanna White-Danny DeVito-Chris Carter-Tommy O'Haver-Peter Landesman-John Singleton-Gary Chapman-Curtis Hanson-Craig Mazin-Allen Hughes-Wes Craven-David Koepp-Anne Fletcher-Shekhar Kapur-Taylor Hackford-Richard Loncraine-Roger Kumble-Kimble Rendall-Peter Yates-Robert Redford-John Milius-Jake Kasdan-Lasse Hallström-Les Mayfield-Jean-Marc Vallée-Dominic Sena-Terrence Malick-Hark Tsui-David Ayer-Brian Helgeland-Lexi Alexander-Peter Hewitt-Robert Zemeckis-Ronny Yu-Ridley Scott-Richard Donner-Taylor Hackford-Bille August-Brian De Palma-Moustapha Akkad-Jean-Paul Rappeneau-Ang Lee-Alejandro G. Iñárritu-Joachim Rønning-Tony Kaye-Wes Ball-Ken Scott-Martin Scorsese-Darren Aronofsky-Hugh Johnson-Simon West-Hayao Miyazaki-George Tillman Jr.-Rand Ravich-Hugh Hudson-Gabriele Muccino-Justin Chadwick-Warren Beatty-Rob Reiner-Andrzej Bartkowiak-Raja Gosnell-Jeremy Degruson-Chris Gorak-Scott Speer-David R. Ellis-Joe Charbanic-Jonathan Hensleigh-Danny Cannon-Boaz Yakin-Mike Newell-Richard Marquand-Neil Marshall-Stephen Daldry-David Wain-Jon Favreau-Jon Turteltaub-Brian Levant-Richard Donner-Jared Hess-Paul Feig-Evan Goldberg-Rupert Wainwright-George Tillman Jr.-John Luessenhop-Justin Zackham-John Whitesell-Duncan Jones-Frank Marshall-Joel Schumacher-Jean-Pierre Jeunet-Steven Spielberg-John Gatins-David Cronenberg-Louis Leterrier-Sam Raimi-Peter Howitt-Martin Scorsese-Miguel Sapochnik-Hyung-rae Shim-Norman Jewison-Don Scardino-Mark Dindal-Tim Robbins-Steven Soderbergh-Tom Reeve-Francis Ford Coppola-Nanette Burstein-Stephen Herek-Ariel Vromen-Sydney Pollack-Robert Zemeckis-Lewis Gilbert-Wes Anderson-Scott Hicks-Frank Marshall-Gregory Hoblit-John Francis Daley-Barry Sonnenfeld-Rob Marshall-Dennis Dugan-J.B. Rogers-John Lasseter-Jan de Bont-Michael Sucsy-Tom Vaughan-Boaz Yakin-John McTiernan-Lee Daniels-Rawson Marshall Thurber-Barry Sonnenfeld-Steve Oedekerk-Garry Marshall-Hugh Wilson-David Fincher-Neill Blomkamp-Stephen Hillenburg-Clint Eastwood-Clint Eastwood-Harold Ramis-Nick Cassavetes-Anne Fletcher-Peter Chelsom-Stig Bergqvist-Barbra Streisand-Edward Zwick-Jason Reitman-Alexander Payne-Jonathan Levine-Rian Johnson-Chris Weitz-Chris Noonan-David Frankel-Nicholas Stoller-John Singleton-Michael McCullers-Forest Whitaker-Gary Winick-Steven Brill-Gary Winick-Woody Allen-Peter Lepeniotis-Ted Demme-Luis Mandoki-William Shatner-John Schultz-Peter Segal-John Glen-Steve Box-Richard LaGravenese-Frederik Du Chau-Joe Wright-Gary Winick-Ridley Scott-Bobby Farrelly-Tim Burton-James Gartner-Denis Villeneuve-Antoine Fuqua-Sam Raimi-Lee Toland Krieger-Tim McCanlies-Jon M. Chu-John Stockwell-Marc Forster-David Slade-Drew Goddard-Jason Friedberg-Martin Brest-Paul Michael Glaser-Frank Oz-Joe Wright-John R. Leonetti-Tom Hanks-Kimberly Peirce-Liz Friedlander-Phil Joanou-Sam Weisman-Shane Acker-Steven Soderbergh-Martha Coolidge-Stephen J. Anderson-Troy Miller-Warren Beatty-Tate Taylor-Carl Franklin-Brett Leonard-Ivan Reitman-Scott Derrickson-Alister Grierson-Nick Hurran-Nicholas Stoller-Charles Stone III-Paul Haggis-Kurt Wimmer-Jean-François Richet-Antoine Fuqua-Kevin Hooks-Ellory Elkayem-Edward Zwick-Jon Avnet-Niki Caro-Howard Deutch-Vincenzo Natali-Willard Huyck-Gavin O'Connor-Bruce Hunt-Rob Reiner-Paul McGuigan-Craig Gillespie-Terrence Malick-Chris Roberts-Neil Jordan-James Wong-Jee-woon Kim-Nick Hamm-Andy Cadiff-Mike Disa-Lasse Hallström-Terry Gilliam-Richard J. Lewis-Brad Furman-Peter Howitt-Edward Zwick-Sergio Leone-Niels Arden Oplev-Michael Radford-Neil Jordan-Steve Boyum-Chris Noonan-Kaige Chen-Corey Yuen-Andrew Dominik-Li Zhang-Laurent Tirard-Simon West-Marc Forster-Reinhard Klooss-Bille August-Frédéric Auburtin-Olivier Dahan-Maksim Fadeev-Liliana Cavani-Greg Tiernan-Elizabeth Banks-James Mangold-Edward Norton-Peter Hewitt-Ron Howard-George Clooney-Reginald Hudlin-Ben Falcone-Richard Attenborough-Lawrence Kasdan-Don Mancini-John Maybury-Ron Clements-F. Gary Gray-Steven Spielberg-Igor Kovalyov-Lee Tamahori-Stephen Frears-Robert Rodriguez-John McTiernan-David Wain-Adam McKay-Ang Lee-Gavin O'Connor-Zack Snyder-Adam Shankman-Shinji Aramaki-Wes Anderson-James Mangold-Jon Turteltaub-John Glen-Peter Chelsom-Peter Hyams-Ben Stiller-Lasse Hallström-Kenny Ortega-Scott Hicks-Matthew Vaughn-Ruben Fleischer-Patrick Lussier-Miguel Arteta-Joe Wright-Ridley Scott-Michael Caton-Jones-McG-James Gray-Janusz Kaminski-Jacques Perrin-Donald Petrie-Jay Roach-Brian Levant-Michael Ritchie-John Carpenter-David Gordon Green-Burr Steers-Martin Scorsese-Robert B. Weide-Jeff Wadlow-Agustín Díaz Yanes-Camille Delamarre-John Glen-Judd Apatow-Nick Cassavetes-Malcolm D. Lee-David Lean-Richard Eyre-Gavin Hood-Nicholas Meyer-Callie Khouri-Gary Fleder-John Landis-Sanaa Hamri-Todd Graff-Chris Weitz-Steve Miner-Paul McGuigan-Philip Kaufman-Roland Emmerich-Wolfgang Petersen-Alex Proyas-Saul Dibb-Walter Murch-Richard Linklater-Christian Alvart-E. Elias Merhige-Menno Meyjes-Robert Rodriguez-Jodie Foster-Ronny Yu-Joel Schumacher-Renny Harlin-Barry Levinson-Norman Jewison-Kenneth Branagh-Steve Carr-Mark Waters-Judd Apatow-John Madden-Scott Frank-Ivan Reitman-David Gordon Green-Andy Tennant-Kevin Costner-Joel Schumacher-Richard Attenborough-Wes Craven-David R. Ellis-Joel Coen-Scott Stewart-Michael Bay-Paul Weitz-Jonathan Frakes-Lawrence Kasdan-Jim Sheridan-Kevin Allen-Garry Marshall-Michael Cristofer-James McTeigue-Donald Petrie-Andrew Morahan-Bob Rafelson-Michael Cohn-Woody Allen-David O. Russell-Alan Shapiro-Tarsem Singh-Fernando Meirelles-Mel Gibson-Chris Columbus-Barry Levinson-Clint Eastwood-Oliver Stone-Pierre Morel-Michael Hoffman-Mick Jackson-Steven Spielberg-Tate Taylor-Bill Condon-Raja Gosnell-Oleg Stepchenko-Ronny Yu-Michael Winterbottom-John A. Davis-Matt Reeves-Michael Pressman-Brian De Palma-Ethan Coen-Tim Story-Sharon Maguire-Lasse Hallström-Charles Herman-Wurmfeld-Andy Fickman-Ivan Reitman-George P. Cosmatos-Andrzej Bartkowiak-Richard Donner-James Wong-Scott Hicks-Gabor Csupo-Marc Forster-Tyler Perry-Joe Carnahan-John Polson-Adam McKay-Martin Scorsese-Harald Zwart-Kirk Jones-Brian De Palma-Steve Oedekerk-Bernardo Bertolucci-Baltasar Kormákur-Brett Ratner-Paul Thomas Anderson-Cathy Malkasian-John Eng-Malcolm D. Lee-Ken Kwapis-Chris Nahon-Fred Wolf-Bille Woodruff-Craig Gillespie-Phillip Noyce-Dennie Gordon-Victor Salva-Mark Helfrich-Andrzej Bartkowiak-Stephen Daldry-Andy Fickman-Steve Bendelack-Dwight H. Little-Guillaume Canet-Kirsten Sheridan-Shekhar Kapur-Ronny Yu-Richard Fleischer-Bob Spiers-David Gordon Green-Damien Dante Wayans-Frank Darabont-Simon Wincer-Bobby Farrelly-Rupert Wyatt-John Wells-Tim Fywell-Nigel Cole-Dexter Fletcher-Spike Lee-Jeremy Leven-Lasse Hallström-Sylvain White-Troy Nixey-Philip G. Atwell-Paul Thomas Anderson-Jeff Schaffer-Don Michael Paul-Paul Feig-James Bridges-Steve Barron-Bill Paxton-Richard Kelly-Carter Smith-John Schlesinger-Wes Craven-Luke Greenfield-Ringo Lam-Bruce McCulloch-Brian Helgeland-Akiva Schaffer-David R. Ellis-Alan Parker-Ivan Reitman-Tobe Hooper-Robert Redford-Catherine Hardwicke-Patricia Riggen-John Carpenter-Pascal Chaumeil-Gavin O'Connor-Neil Jordan-Ron Maxwell-Kimberly Peirce-Stephen Gaghan-Jonathan Kaplan-Ole Bornedal-Richard Benjamin-Rod Lurie-Lasse Hallström-Craig R. Baxley-John Hillcoat-John Guillermin-Marcos Siega-J.B. Rogers-Roger Donaldson-Rachel Talalay-Jeffrey W. Byrd-Fernando Meirelles-Uwe Boll-Roman Polanski-Atom Egoyan-Andrew Adamson-Robert Towne-Richard Linklater-Giuseppe Tornatore-Werner Herzog-Ben Stassen-Guillaume Canet-Taylor Hackford-Jérôme Deschamps-Inna Evlannikova-Ridley Scott-Jonathan English-Sergey Bondarchuk-Teddy Chan-Mario Van Peebles-Stephen Frears-Walter Salles-Leonard Nimoy-Sylvester Stallone-Wes Craven-Gavin O'Connor-Tim Story-Jonathan Lynn-Herbert Ross-Todd Phillips-Terry Gilliam-Danny Cannon-Bonnie Hunt-Kevin Smith-Neil LaBute-Grant Heslov-George Gallo-James Mangold-Robert Luketic-Tim Hill-Sidney Lumet-Brian Robbins-Ron Shelton-Douglas McGrath-Alexandre Aja-Kevin Spacey-Steve Boyum-Richard Williams-Mary McGuckian-George Tillman Jr.-Hayao Miyazaki-Ruben Fleischer-Frank Coraci-Irvin Kershner-Michael Bay-David Zucker-James Wong-George Clooney-David Twohy-Tony Goldwyn-Spike Jonze-John Dahl-Jonathan Newman-Wayne Wang-Michael Dinner-Steven Soderbergh-Joseph Sargent-Jerry Zaks-Fred Durst-Neil Jordan-Simon Wincer-Paul Haggis-Anne Fontaine-Jon Cassar-Stephen Frears-Mira Nair-Teddy Chan-Mikael Håfström-Mel Brooks-Russell Crowe-Jerry Zucker-Bobby Farrelly-John Pasquin-John Lee Hancock-Andy Fickman-Clint Eastwood-Luke Greenfield-Richard Attenborough-Lasse Hallström-Irwin Winkler-Jessie Nelson-Christopher Spencer-Len Wiseman-Mikael Håfström-Steven Soderbergh-Richard Attenborough-Mike Bigelow-Ken Scott-Susanna White-Dennis Dugan-David Bowers-Spike Lee-Kevin Smith-Daniel Sackheim-Ethan Coen-Harry Elfont-Gary Fleder-Uli Edel-David O. Russell-Fred Dekker-Brian Trenchard-Smith-Blake Edwards-Hugh Wilson-Camille Delamarre-Laurence Dunmore-Paul Verhoeven-Christian Carion-David Palmer-Callie Khouri-Rowan Joffe-William Friedkin-John Curran-Laurent Tirard-Scott Cooper-Tony Gilroy-Peter Segal-Mark Pellington-Juan José Campanella-Woody Allen-Clint Eastwood-Trey Parker-Frank Oz-Stuart Gillard-Brian Robbins-David O. Russell-Richard LaGravenese-Tyler Perry-Louis Leterrier-Jeff Wadlow-Katt Shea-Sam Mendes-Joshua Michael Stern-Brad Silberling-Tomas Alfredson-John Duigan-Jodie Foster-Colin Higgins-David Cronenberg-Steven Spielberg-Chris Columbus-Steven Spielberg-Jim Sonzero-Tony Scott-Adam Shankman-Jonathan Demme-Penelope Spheeris-Jeff Tremaine-Jeannot Szwarc-Raja Gosnell-James Wan-Brian Levant-Ben Falcone-Richard Linklater-Paul W.S. Anderson-Keenen Ivory Wayans-Alexander Payne-Andrew Davis-Julie Anne Robinson-Steve McQueen-Charles Stone III-Tyler Perry-Tim Burton-Thea Sharrock-Tyler Perry-William Friedkin-Jon Lucas-Aaron Seltzer-Robin Budd-Ava DuVernay-Steve Trenbirth-Stephen Kay-Mennan Yapo-Jun Falkenstein-Jaume Collet-Serra-Boaz Yakin-Jason Friedberg-Tom McCarthy-Neil LaBute-Takashi Shimizu-Kevin Rodney Sullivan-Peter Hewitt-Barry Levinson-Gary Nelson-Anton Corbijn-Gregory Nava-Jason Friedberg-Alejandro G. Iñárritu-Shawn Levy-John Patrick Shanley-Trey Parker-John Luessenhop-Jon Amiel-Malcolm D. Lee-Joshua Logan-Gus Van Sant-Kevin Reynolds-Steve Beck-Todd Strauss-Schulson-John McNaughton-Nelson McCormick-John Madden-Stephen Frears-Eric Valette-John Schlesinger-Roger Donaldson-Michel Gondry-Andy Fickman-David Ayer-Edgar Wright-Andrew Fleming-Michael Spierig-Jim Field Smith-Thomas Bezucha-William Brent Bell-Simon Wincer-Anthony Bell-Renny Harlin-Jessica Bendinger-Robert Rodriguez-Gus Van Sant-Henry Joost-Ed Harris-John Carpenter-Alfred Hitchcock-Howard Deutch-Shana Feste-Garry Marshall-Steve Rash-Richard Donner-Mark Steven Johnson-Mike Binder-Sean Penn-Todd Phillips-Michael J. Bassett-Robert Rodriguez-Frank Nissen-Jodie Foster-Stephen Chow-Peter Hastings-Marc Forster-Alejandro G. Iñárritu-Paul Abascal-Chris Koch-Amy Heckerling-Michael Moore-George Stevens-Billy Ray-Jason Friedberg-Nimród Antal-Jon Amiel-Mark Mylod-James Mather-Barry Levinson-Mark Neveldine-Woody Allen-Michael O. Sajbel-Phillip Noyce-Gore Verbinski-Walter Hill-David Koepp-Renny Harlin-Matt Reeves-Charles T. Kanganis-Michel Gondry-Stephen Frears-John Hillcoat-Woody Allen-Damon Santostefano-John Wells-Neil Jordan-Woody Allen-James Wan-Kirk Jones-Bob Clark-Les Mayfield-Les Mayfield-Michael Lembeck-Bob Fosse-Paul Thomas Anderson-Dave Borthwick-Benson Lee-David Zucker-Robert Rodriguez-Glen Morgan-Fred Wolf-Mike Leigh-Alejandro Monteverde-David Cronenberg-Richard Linklater-Michael Apted-Uwe Boll-Todd Graff-Jonathan Glazer-J.C. Chandor-Paul Gross-Marc Abraham-Todd Haynes-Mabrouk El Mechri-Rian Johnson-Charlie Kaufman-Hayao Miyazaki-Jean-Paul Rappeneau-Nancy Walker-John Hillcoat-Angelo Pizzo-Richard Benjamin-Kurt Wimmer-Roger Spottiswoode-James Gray-Matthew Diamond-Angelina Jolie Pitt-Katsuhiro Ôtomo-David Anspaugh-Andrew Jarecki-Kevin Reynolds-Stephen Chow-Jean-Marie Poiré-Kevin Munroe-Daniel Algrant-Julie Taymor-Alejandro Amenábar-Jane Clark-Daniel Lee-Mike Barker-Wayne Thornley-Gnana Rajasekaran-Tom Walsh-Jonathan Jakubowicz-James McTeigue-Scott Walker-John Curran-Uli Edel-Kevin Costner-Jake Kasdan-Harold Becker-Mark Rosman-Wes Craven-Steve Beck-Stanley Kubrick-Robert Zemeckis-William Malone-Tyler Perry-Rob Hawk-Josh Gordon-Shawn Levy-Lee Tamahori-Britt Allcroft-Breck Eisner-Hayao Miyazaki-Alan Yuen-Roger Donaldson-Brian Percival-Sean Anders-Anand Tucker-Anthony Mann-Michael Dowse-Daniel Barnz-Emile Ardolino-Robert Altman-James Schamus-Andrew Douglas-Spike Jonze-George A. Romero-Danny Pang-Terry Gilliam-Ricky Gervais-Nicholas Stoller-Chuck Russell-Penny Marshall-Larry Charles-Robert Luketic-Leonard Nimoy-Scott Derrickson-Mike Mitchell-Vic Armstrong-Thomas Bezucha-Kevin Rodney Sullivan-Terry Zwigoff-Jay Roach-Kirk Jones-David Bowers-John McTiernan-Milos Forman-Nelson McCormick-Mark Waters-Audrey Wells-Robert Altman-Francis Ford Coppola-Alejandro G. Iñárritu-Woody Allen-Paul Greengrass-Bille Woodruff-Rick Friedberg-John Carpenter-Sean McNamara-Mike Nichols-Jody Hill-Richard Fleischer-Martin Scorsese-Brandon Camp-Barry Levinson-Kevin Tancharoen-Danny Boyle-Woody Allen-Nicholas Hytner-Jessie Nelson-Bart Freundlich-Irwin Winkler-Danny Boyle-Chris Columbus-Miguel Arteta-William A. Fraker-John Boorman-Brian De Palma-Courtney Solomon-Ang Lee-Rob Reiner-Jeff Kanew-István Szabó-Adrian Lyne-Matthew Robbins-Michael Hoffman-Tim Burton-Jason Reitman-Sergey Bodrov-Guy Ritchie-Hal Needham-Kenneth Branagh-Bruce Beresford-Jeff Nichols-Woody Allen-Jonathan Teplitzky-Michael Haneke-Zack Ward-Mike Marvin-D.J. Caruso-Nimród Antal-Gregor Jordan-Tran Anh Hung-Lance Hool-George A. Romero-Chuck Russell-Christian Volckman-Richard Fleischer-Rodrigo Cortés-Greg Mottola-Tyler Perry-David Hayter-Jon M. Chu-Cory Edwards-Terry George-Xavier Gens-Kasi Lemmons-Brian A Miller-Matt Dillon-Alejandro Amenábar-James Cameron-George Cukor-Jim Gillespie-Luke Greenfield-Alexander Payne-Jay Chandrasekhar-John Carpenter-John Hoffman-Malcolm D. Lee-Joe Carnahan-Kevin Greutert-Michael Lehmann-John Fortenberry-Daniel Barnz-Alexandre Aja-Sam Weisman-Niki Caro-Erik White-Chris Robinson-Jason Moore-Michael Tollin-Sam Raimi-Robert Harmon-Trent Cooper-Gary Halvorson-Antoine Fuqua-Nicholas Ray-Fede Alvarez-Donald Petrie-Paul Weitz-Sidney J. Furie-Ian Iqbal Rashid-Wayne Kramer-Rowdy Herrington-Jim Goddard-Neil Burger-Noel Marshall-Joel Schumacher-Andrea Di Stefano-Richard Kelly-Guillaume Ivernel-Jack Smight-Todd Lincoln-Howard Zieff-Steven Shainberg-Oliver Stone-Ang Lee-Julian Jarrold-Joe Nussbaum-Vadim Perelman-Peter Weir-Peter Farrelly-Rob Reiner-Sidney Lumet-Todd Phillips-Brian Robbins-Michel Hazanavicius-David S. Goyer-Wes Anderson-Jonathan Liebesman-Cyrus Nowrasteh-Perry Andelin Blake-Guillermo del Toro-John Whitesell-John Singleton-Christian E. Christiansen-Dennie Gordon-Sheldon Lettich-Edgar Wright-Diane English-Woody Allen-Peter Flinth-Robert Iscove-Peter Kosminsky-Karyn Kusama-Nick Gomez-Woody Allen-Allen Coulter-Clare Kilner-Richard Benjamin-Jonathan Demme-Josef Rusnak-Lance Rivera-Ronald Neame-Bruce Paltrow-Woody Allen-Adam Rifkin-Russell Mulcahy-Susanne Bier-Kenneth Johnson-James Gray-James Ivory-Danny Boyle-Jessy Terrero-Dany Boon-Vicente Amorim-Gaspar Noé-Amy Heckerling-Lasse Hallström-Jérôme Salle-Tommy Lee Jones-Jesse Vaughan-Atom Egoyan-William Bindley-Wayne Beach-Gérard Krawczyk-James Gunn-Martin Brest-Chris Columbus-Leonard Nimoy-Sydney Pollack-Tony Scott-Ang Lee-Sam Mendes-Tom Hooper-Ivan Reitman-Udayan Prasad-Steven Spielberg-JK Youn-Morten Tyldum-Howard Zieff-Michael Apted-Thor Freudenthal-Andrés Muschietti-Harold Ramis-Jeff Tremaine-Stephen Frears-Tim Burton-Tyler Perry-Gillian Armstrong-James Watkins-Simon West-Shawn Levy-Michael Cimino-Barry Levinson-Jim Fall-Ric Roman Waugh-Michael Dougherty-Robert Rodriguez-Brian Gibson-James Mangold-Joel Gallen-David Ayer-Rob Cohen-James Marsh-John Whitesell-Matt Williams-David Lean-Rob Zombie-Jean-Marc Vallée-Dennis Iliadis-Clare Kilner-Rick Rosenthal-Rob Reiner-Denzel Washington-Nicolas Winding Refn-Sara Sugarman-Nicholas Hytner-Juan Carlos Fresnadillo-Thomas Carter-Wayne Wang-Gina Prince-Bythewood-George Armitage-Phil Traill-Joe Berlinger-Andrew Fleming-Woody Allen-Elizabeth Allen Rosenbaum-James Ivory-Paul Thomas Anderson-Robert Harmon-Michael Mayer-Martin Weisz-John Ottman-Jay Russell-John Bonito-Peter Atencio-Shana Feste-David Nutter-Derek Cianfrance-Roger Donaldson-Stephan Elliott-Kathryn Bigelow-Mark L. Lester-Andrew Dominik-Anton Corbijn-Tom Green-Mike Nawrocki-Catherine Owens-Douglas Aarniokoski-Bryan Barber-Lone Scherfig-Drew Barrymore-Brian Koppelman-James Foley-Albert Brooks-Irwin Winkler-Woody Allen-Steve Gomer-RZA-Dean Parisot-Mark Piznarski-Terry Gilliam-Sean McNamara-Joel Coen-Craig Brewer-Ron Shelton-Michael Winterbottom-David Raynr-Mort Nathan-Oliver Parker-Dan Curtis-Wil Shriner-Martin McDonagh-Tina Gordon Chism-Peter Cattaneo-Vicky Jenson-Gus Van Sant-Woody Allen-Mary Lambert-Tommy Lee Jones-Peter Kassovitz-Shane Black-Rodman Flender-David Lynch-Katja von Garnier-Woody Allen-Mark Romanek-Brad Anderson-Michael Chapman-Antonio Banderas-Michael Haneke-Khalil Sullins-Atom Egoyan-Fritz Lang-Pierre Morel-Gary Fleder-Hsiao-Hsien Hou-Gregor Jordan-Andrey Zvyagintsev-Tony Jaa-Neil Marshall-Russell Mulcahy-Ryûhei Kitamura-Darrell Roodt-Dito Montiel-Stefan Ruzowitzky-Jake Paltrow-Juraj Jakubisko-Anthony Silverston-Gabe Ibáñez-Gerry Lively-Daniele Luchetti-Tung-Shing Yee-Julien Temple-Harold Ramis-Gregory Jacobs-Baz Luhrmann-Gilles Paquet-Brenner-Peter Cousens-Clint Eastwood-Lars von Trier-Danny Boyle-Adrian Lyne-Garry Marshall-John Blanchard-John Cornell-Vidhu Vinod Chopra-Oliver Stone-Jon Turteltaub-Patrick Lussier-Sylvain White-Lewis Gilbert-Jamie Blanks-Tyler Perry-Randal Kleiser-Bruce McCulloch-Phyllida Lloyd-Mike Nawrocki-John Singleton-Kevin Bray-Wes Craven-John Boorman-Courtney Solomon-David Zucker-David Twohy-Rick Famuyiwa-Alan Cohn-Franco Zeffirelli-Tom Holland-Martin Scorsese-Spike Lee-Chris Rock-James Isaac-Emilio Estevez-Mark Waters-Josh Schwartz-Julian Schnabel-Todd Field-Davis Guggenheim-Tony Goldwyn-Phillip Noyce-Stephen Carpenter-James Ivory-Stephan Elliott-James Fargo-Mike Leigh-Alain Resnais-Costa-Gavras-Chao-Bin Su-Neil Burger-Kenneth Lonergan-Bo Zenga-Rob Reiner-Ang Lee-Amy Heckerling-Todd Haynes-Steve Pink-Philip Kaufman-Martin McDonagh-Kasi Lemmons-Oliver Hirschbiegel-Alejandro Amenábar-Jonathan Glazer-Barry Levinson-Hyung-rae Shim-Jon M. Chu-Darren Aronofsky-Francis Ford Coppola-Thomas Carter-Renny Harlin-Patricia Riggen-Danny Leiner-Christopher Cain-Theodore Melfi-Steve Pink-Gil Junger-Ed Decter-Gene Quintano-Jaume Collet-Serra-Eric Bress-Chris Koch-Preston A. Whitmore II-Bob Clark-Kirk Wong-Bronwen Hughes-John Lafia-Sam Miller-Frank Darabont-Alex Garland-Spike Jonze-Mark Brown-Dave Green-John Stockwell-Clint Eastwood-Michael Polish-Daisy von Scherler Mayer-Lenny Abrahamson-Bob Saget-John Waters-Andrew Fleming-Niels Arden Oplev-Craig Bolotin-Mark Christopher-Blair Hayes-Jez Butterworth-Jon Lucas-Olivier Assayas-Rod Lurie-Paul Weitz-Patrice Leconte-Atom Egoyan-Paul Mazursky-Sidney Lumet-Stephen Chbosky-Jon Hess-Douglas McGrath-Michael Winterbottom-Mark Neveldine-Joe Cornish-Angelina Jolie Pitt-Brad Anderson-John H. Lee-John Stainton-Glenn Ficarra-Jean-Jacques Annaud-Denzel Washington-Michael Hoffman-Tony Scott-Benedek Fliegauf-James Foley-Michael Winterbottom-Paul Schrader-Stewart Hendler-John Cromwell-Craig Gillespie-Mark Herman-Lars von Trier-Gillian Armstrong-Abel Ferrara-Brian Koppelman-Ethan Maniquis-George Hickenlooper-Don Bluth-Je-kyu Kang-William Dear-William Friedkin-Steven Spielberg-Paul Weitz-Stéphane Aubier-Michael Ritchie-Tim Story-Tim Story-Nicholas Meyer-Tom Shadyac-John Badham-Peter Weir-Mike McCoy-Anne Fletcher-Mike Judge-Quentin Tarantino-Jon Hurwitz-Josh Trank-Barbra Streisand-Terry Gilliam-Tamra Davis-Nima Nourizadeh-Franklin J. Schaffner-Mark Romanek-John Erick Dowdle-David Moreau-Christopher Erskin-Jesse Dylan-Brian Henson-Julie Taymor-Dan Cutforth-Josh Boone-John Dahl-Chris Rock-John Frankenheimer-David Koepp-Stephen Frears-Mike Binder-Franklin J. Schaffner-Elizabeth Allen Rosenbaum-Jake Schreier-Cheryl Dunye-Alexander Payne-Ernest R. Dickerson-Tim Hill-Jason Reitman-Mark Neveldine-Lionel C. Martin-Richard LaGravenese-Sanaa Hamri-Jonathan Demme-Bob Rafelson-Peter Webber-Wolfgang Petersen-Wallace Wolodarsky-Richard Curtis-Yimou Zhang-Nicholas Jarecki-Dean Israelite-Darnell Martin-Scott Alexander-Stuart Gordon-Christopher Guest-Woody Allen-Ryan Murphy-Robert Iscove-Spike Lee-Jane Campion-James Gray-Fred Schepisi-Roger Spottiswoode-Antonia Bird-Jon Poll-Paolo Sorrentino-Peter Care-Chan-wook Park-Kar-Wai Wong-Ira Sachs-Carroll Ballard-Neil Jordan-Takeshi Kitano-Anthony Russo-Sidney Lumet-Vadim Perelman-Lawrence Kasdan-Marco Kreuzpaintner-Lajos Koltai-Alan Rudolph-Yimou Zhang-Vincenzo Natali-Chuan Lu-Lijun Sun-Takashi Yamazaki-Renny Harlin-Christopher Smith-Timothy Hines-Randall Wallace-Guy Ritchie-David Winters-Mary Lambert-Akira Kurosawa-Jamie Thraves-Mabel Cheung-Joe Dante-George Lucas-Dan Mazer-David Lean-Stephen Daldry-Kenny Ortega-David O. Russell-Jeff Tremaine-Jonathan Lynn-R.J. Cutler-Brian Trenchard-Smith-David S. Ward-Oliver Parker-Joel Schumacher-Adam Shankman-Tim Robbins-Roger Kumble-Kevin Greutert-Mel Brooks-Gina Prince-Bythewood-Rob Pritts-Brian De Palma-Norman Jewison-Tobe Hooper-John Crowley-Stanley Kubrick-Brendan Malloy-Reginald Hudlin-Dustin Hoffman-Gregory Poirier-Bill Paxton-Simon Curtis-Bill Condon-Sam Raimi-Dewey Nicks-Lasse Hallström-Philip Saville-Mike Leigh-Daisy von Scherler Mayer-Mira Nair-Ethan Coen-Tim Blake Nelson-William A. Graham-Martin Ritt-John Turturro-Agnieszka Holland-Rowan Joffe-David Hackl-Giuliano Montaldo-Lisa Azuelos-Ray Lawrence-Karan Johar-Oliver Parker-Ruairi Robinson-Jaume Balagueró-Stanley Kubrick-Steven Spielberg-Jon Kasdan-Léa Pool-Floyd Mutrux-Sajid Khan-Christopher Cain-Dean Wright-Eric Lartigau-Gus Van Sant-Shintaro Shimosawa-Darren Lynn Bousman-Ivan Reitman-Peyton Reed-James DeMonaco-Robert Iscove-Darren Lynn Bousman-Geoffrey Sax-Tyler Perry-Martin Scorsese-Ken Annakin-Stephen Herek-Takashi Shimizu-Dennis Dugan-Victor Salva-Stephen Herek-Carol Reed-John Madden-Chuck Sheetz-George Miller-Mark L. Lester-William Brent Bell-John Erick Dowdle-Marcus Raboy-Leigh Whannell-Michael Schultz-Brett Leonard-Peter Sollett-Kevin Smith-Bob Dolman-Joe Dante-Rowdy Herrington-Keenen Ivory Wayans-John Polson-Greg Coolidge-Harry Elfont-Francis Ford Coppola-David Lowery-Ciarán Foy-Salim Akil-Jamie Blanks-Olatunde Osunsanmi-Robert Altman-Leon Ichaso-Joseph Zito-Malcolm D. Lee-Wes Anderson-Colin Strause-John Madden-Patricia Rozema-Mark Rosman-Spike Lee-Steve Oedekerk-Ron Underwood-Rob Schmidt-Walter Hill-James Foley-Jeff Nichols-Robert Ben Garant-Morgan Spurlock-Neal Brennan-Tuck Tucker-Simon Curtis-Richard Shepard-Theodore Witcher-Joel Edgerton-Jim Hanon-Tommy O'Haver-Mike Judge-Michael Patrick Jann-Tim Burton-Peter Berg-Joe Nussbaum-Brian De Palma-Jorma Taccone-Stephen Frears-Elizabeth Banks-Jeff Lowell-Lorene Scafaria-Miguel Arteta-Tony Kaye-Marcus Dunstan-Timothy Björklund-François Girard-David Lynch-Scott Kalvert-Jason Bateman-David Schwimmer-Allan Arkush-Mike Binder-Eric Bross-Werner Herzog-Dan Fogelman-Jay Duplass-Luca Guadagnino-John Putch-Peter Medak-Steven Soderbergh-Paul Haggis-Terence Davies-Harley Cokeliss-Victor Salva-Tom Brady-Spike Lee-Jason Zada-Franklin J. Schaffner-Noah Baumbach-Chris Weitz-David Cronenberg-Eric Blakeney-Douglas McGrath-Ariel Vromen-Rakesh Roshan-John Waters-William Friedkin-Derrick Borte-Richard Kwietniowski-Bob Odenkirk-Kar-Wai Wong-John Turturro-Guy Ritchie-Joshua Seftel-Stephen Chow-Vincent Gallo-Claude Chabrol-Jon Stewart-Bigas Luna-Ralph Fiennes-Dan Harris-Mel Smith-Bobcat Goldthwait-Christopher Smith-Stuart Gordon-Jake Scott-Alan Metter-Jeb Stuart-Rafa Lara-Michael Radford-Arthur Hiller-Michael Meredith-Julio DePietro-Katherine Dieckmann-William Dear-Kim Farrant-Marcus Raboy-Scott Marshall-Álex de la Iglesia-Andrew Traucki-Michael Clancy-Patrick Lussier-Robert Adetuyi-Kari Skogland-Taedong Park-Paul Schrader-Benedikt Erlingsson-Gurinder Chadha-Jason Connery-Vic Sarin-Jim Issa-Jee-woon Kim-Douglas Aarniokoski-William Phillips-Greg Mottola-Andy Garcia-Steve Carr-Sarik Andreasyan-Lewis Gilbert-Julian Gilbey-Michael Haneke-Gary Sherman-Valeri Milev-Stanley Kramer-Pedro Almodóvar-Gerald Potterton-Jared Hess-Richard Loncraine-David Hackl-Anurag Basu-Lars von Trier-Kriv Stenders-Yash Chopra-Ridley Scott-Tobe Hooper-Floria Sigismondi-Norman Jewison-Terence Young-Joseph Kahn-Ferzan Ozpetek-F. Gary Gray-Malcolm D. Lee-Tom Holland-Michael Moore-James DeMonaco-Kris Isacsson-Danny Leiner-Rod Lurie-Ben Younger-John Landis-Glen Morgan-Daniel Taplitz-Kenneth Branagh-Tamara Jenkins-Linda Mendoza-Christopher McQuarrie-Burr Steers-Hart Bochner-Michael O. Sajbel-Stewart Raffill-Davis Guggenheim-Bart Freundlich-Andrew Fleming-Todd Haynes-Hong-jin Na-Kevin Tancharoen-Chatrichalerm Yukol-Dario Argento-Eric Lavaine-Mike Leigh-Marc Forby-Peter Cattaneo-Ole Christian Madsen-Meiert Avis-Julian Jarrold-André Téchiné-Emily Young-Peter Faiman-Martyn Pick-Roland Suso Richter-Jeremy Sims-Maïwenn-Joby Harold-Ekachai Uekrongtham-Joel Schumacher-Scott Cooper-Mark Rydell-David E. Talbert-Roger Vadim-Nils Gaup-Alexander Payne-Mira Nair-Ari Sandel-Vondie Curtis-Hall-Tom Elkins-Woo-Suk Kang-Jane Campion-Karan Johar-J.C. Chandor-John Sayles-Vipul Amrutlal Shah-Ken Loach-Ayan Mukerji-Mervyn LeRoy-Darren Lynn Bousman-Serdar Akar-Quentin Tarantino-James Frawley-Dan Gilroy-Jay Chandrasekhar-Robert Wise-Ron Howard-Jonathan Dayton-Rob Reiner-Danny Boyle-Chris Stokes-Don Siegel-Rick Famuyiwa-Martin Lawrence-Jonathan Levine-Masayuki Ochiai-Tom Gormican-Ken Shapiro-Justin Tipping-Kenneth Branagh-Peter R. Hunt-Wes Craven-John Schultz-Doug Atchison-Tamra Davis-Jonas Elmer-Mary Harron-Miguel Arteta-Erik Canuel-Troy Duffy-James Ivory-Nicole Holofcener-Will Gluck-Matty Rich-E. Elias Merhige-Joe Nussbaum-Matt Reeves-Steve Rash-Fina Torres-James Ivory-Duke Johnson-Mike Leigh-François Ozon-Mark L. Lester-David Dobkin-Anna Boden-Nigel Cole-Anand Tucker-Steve James-Michael Winner-Tomm Moore-John Carney-David Jacobson-Michael Corrente-Edward Hall-Keith Gordon-David Leland-Andrew Currie-Andrew Wilson-Jonathan Lynn-Marc Schölermann-Robert Moresco-Thomas Vinterberg-Claudia Llosa-Katsuhiro Ôtomo-John Herzfeld-Charles Binamé-Keith Parmer-Dennie Gordon-Ol Parker-Bruce Beresford-François Ozon-James Nunn-David Webb Peoples-Michael Winnick-Bruce Beresford-George Tillman Jr.-Stanley Tong-David Oelhoffen-Jason Reitman-Eli Roth-Lone Scherfig-Anand Tucker-Tony Richardson-Joe Carnahan-Paul Gross-Charles Robert Carner-Russell Holt-Mike Judge-Larry Charles-Claude Miller-Michael Winterbottom-Sacha Bennett-Rodrigo García-Jeta Amata-Siddharth Anand-Vincent Paronnaud-Joe Dante-Dennis Gansel-Nicolas Winding Refn-Daniel Barber-Robert Marcarelli-Jason Reitman-Ernie Barbarash-Guy Hamilton-Francis Ford Coppola-Adrian Lyne-Marc Webb-Jane Campion-Steven Soderbergh-Jonathan Liebesman-Guy Hamilton-Jay Russell-Adam Brooks-Salim Akil-George Clooney-Bennett Miller-Robert Rodriguez-Michael Anderson-Guy Hamilton-Craig R. Baxley-Neil Marshall-Don Kempf-Matt Bettinelli-Olpin-David O. Russell-Rob Zombie-Rick Famuyiwa-Michael Rymer-Rob Zombie-Sharron Miller-Ethan Coen-Aaron Schneider-Steve Miner-Gina Prince-Bythewood-Tom Ford-Martin Scorsese-Michael Corrente-Gurinder Chadha-Phillip Noyce-Don Michael Paul-Tony Maylam-Mitch Davis-Yash Chopra-David Mamet-Jay Duplass-Kevin Brodie-Paul Schrader-George Hickenlooper-Lynne Ramsay-John Stephenson-Tim Chambers-Curtis Hanson-Rodrigo García-Dick Richards-Jean-Marie Poiré-Sofia Coppola-Bob Gosse-Alex Zamm-Spencer Susser-Richard Shepard-Gus Van Sant-Thaddeus O'Sullivan-Peter Sollett-Shari Springer Berman-Aleksey German-Stephen Milburn Anderson-Richard E. Grant-Troy Duffy-David Lam-Francis Ford Coppola-Vladlen Barbe-Richard Rich-Clint Eastwood-Robert C. Cooper-Richard Linklater-Kenny Ortega-Kim Nguyen-Jackie Earle Haley-Max Färberböck-Arie Posin-Damian Nieman-Mark Tonderai-Denis Villeneuve-Gabriele Muccino-Ian Fitzgibbon-José Padilha-John R. Leonetti-Rachel Perkins-John Singleton-Luis Valdez-Alan Alda-Brian De Palma-Stephen Sommers-Doug Liman-Nicole Holofcener-Robert Wise-Louis Morneau-Caroline Link-Steve McQueen-Matthew Vaughn-Sterling Van Wagenen-Zal Batmanglij-Michael Mayer-Hans Petter Moland-Oren Moverman-Ian Sharp-Anton Corbijn-James Cameron-Wolfgang Becker-Tom Hooper-Dan O'Bannon-Kevin Smith-Randal Kleiser-Oliver Stone-Michael Moore-George Roy Hill-Robert Stevenson-Robert Redford-Jerome Robbins-Harold Ramis-Gary Hardwick-Rick Famuyiwa-Bryan Singer-Stephen Hopkins-Walt Becker-Darren Aronofsky-King Vidor-Christopher Guest-John Carpenter-Spike Lee-Fred Savage-Sammo Kam-Bo Hung-Christopher Guest-Donald Petrie-Peter Howitt-Rusty Cundieff-Kevin Macdonald-Dominique Othenin-Girard-Richard Linklater-Jean-Jacques Mantello-Ed Harris-Risa Bramon Garcia-Brian Klugman-Matt Piedmont-Raymond De Felitta-John Michael McDonagh-Deb Hagan-Sofia Coppola-Mark Herman-Zach Cregger-Zach Braff-Mark Tarlov-John Cameron Mitchell-Sheldon Lettich-Jon Knautz-Billy Ray-David Atkins-Patrick Stettner-Sam Peckinpah-Jonathan Levine-Michael Crichton-Lynne Ramsay-Sylvio Tabet-Rick Bieber-Claude Chabrol-Shana Feste-Wayne Wang-Joey Lauren Adams-Peter Cattaneo-Fred Zinnemann-S.R. Bindler-Tony Kaye-Greg Marcks-Perry Lang-Jake Goldberger-Stefan Ruzowitzky-Vic Sarin-William Kaufman-David Cronenberg-Cédric Klapisch-Kate Barker-Froyland-Martin Koolhoven-Charles Matthau-John Frankenheimer-Christopher M. Bessette-Prachya Pinkaew-Gary Sinyor-Gurinder Chadha-John Sayles-Preston A. Whitmore II-Ashish R. Mohan-Jaume Balagueró-Stewart Raffill-George Roy Hill-Hugh Hudson-Darren Grant-Scott Hicks-Joseph Gordon-Levitt-Clint Eastwood-Terry Zwigoff-Richard Eyre-William Sachs-Christophe Barratier-Émile Gaudreault-James Cox-Spike Lee-James Toback-Aki Kaurismäki-Gaspar Noé-Hitoshi Matsumoto-Rakeysh Omprakash Mehra-Collin Schiffli-George Ratliff-David Wain-Shane Meadows-Morten Tyldum-Jon Wright-Michael McGowan-Liv Ullmann-Jeannot Szwarc-Rohan Sippy-James Wan-Darren Lynn Bousman-Dan Trachtenberg-Jeff Tremaine-David F. Sandberg-Henry Joost-Stiles White-Chuck Russell-Eugenio Derbez-Henry Joost-Henry Koster-Blake Edwards-Rachel Talalay-Patty Jenkins-Richard Fleischer-Christopher Landon-David Lynch-Jean-Marc Vallée-David Gelb-Christopher Nolan-Mike Flanagan-Kevin Smith-Stephen Daldry-Nat Faxon-George Jackson-George Miller-Maurice Joyce-Robert Duvall-Frank Perry-Jesse Peretz-Stephen Hopkins-Ice Cube-John Erick Dowdle-Bille Woodruff-Kasi Lemmons-Richard Glatzer-Michael Curtiz-Bruce Malmuth-Rob Hedden-Joel Zwick-Harmony Korine-Joe Chappelle-Alfonso Cuarón-Edgar Wright-Mickey Liddell-John Sayles-Dwight H. Little-Fred Walton-Barry Levinson-Steve Carver-Gonzalo López-Gallego-Christine Jeffs-John Erick Dowdle-Don Coscarelli-King Vidor-Michael Tiddes-Bill Duke-Frank Borzage-Bille Woodruff-Mamoru Hosoda-Brian Dannelly-Denys Arcand-Richard Lester-J.S. Cardone-Guy Hamilton-Jay Levey-Nicholaus Goossen-Tamara Jenkins-Sergio Leone-Jon Favreau-Duncan Jones-Scott Marshall-Ronan Chapalain-Atom Egoyan-Xavier Beauvois-Randall Miller-Jerry Belson-Peter Jackson-Michael Polish-Dan Rush-Jake Kasdan-Brad Anderson-Paul Schrader-Michael Cuesta-John Cameron Mitchell-Fenton Bailey-Jeremy Saulnier-Billy Kent-James Manera-Wes Anderson-Kevin Spacey-Feroz Abbas Khan-Errol Morris-Dennis Hopper-Eli Craig-Nicholas Fackler-Richard Wallace-Morgan J. Freeman-Matthew Hastings-M. Night Shyamalan-Brian De Palma-Klaus Menzel-Oren Peli-Jaume Balagueró-Paul Andrew Williams-Stephen Herek-Bob Saget-Jim Amatulli-William H. Macy-Barrett Esposito-Mitch Davis-Eric Bross-Paul Schrader-Vicky Jewson-Peter Hyams-Marc Bennett-Mike Mayhall-Kevin Smith-Stanton Barrett-Jirí Menzel-Fatih Akin-Billy Bob Thornton-Nick Murphy-Eli Roth-Michael Winterbottom-Jeff Nichols-Frank LaLoggia-Jeremy Brock-Scott Foley-Tobe Hooper-Sam Peckinpah-Nicolas Winding Refn-Christophe Ali-Gabriela Tagliavini-Shekar-Shona Auerbach-Leonard Farlinger-Michel Leclerc-Analeine Cal y Mayor-Tom Kalin-Hugh Wilson-Randal Kleiser-Mike Newell-Amy Heckerling-John Huston-Spike Lee-Lana Wachowski-Darren Aronofsky-Walter Lang-Carlos Saura-Oliver Stone-Andrew Erwin-Richard Kelly-Beto Gómez-Mike van Diem-Jonas Åkerlund-Todd Solondz-Chan-wook Park-René Féret-Barry Skolnick-Johnnie To-Mateo Gil-Lukas Moodysson-Agnieszka Wojtowicz-Vosloo-Kabir Sadanand-Milos Forman-Peter DeLuise-Mel Brooks-Raja Menon-Ernie Barbarash-Nick Love-Jonathan Glazer-Daniel Espinosa-Niki Caro-R. Balki-Ivan Engler-Kenny Ortega-Richard Kwietniowski-Timur Bekmambetov-Neil Jordan-Bob Clark-George A. Romero-George A. Romero-Sofia Coppola-Woody Allen-Cecil B. DeMille-Marc Forster-Henry Hobson-Mike Figgis-Duane Journey-Billy Wilder-Rob Cohen-Carol Reed-Lisa Cholodenko-John Carpenter-John Sturges-William Arntz-Ed Gass-Donnelly-Richard Linklater-Woody Allen-DJ Pooh-DJ Pooh-Wayne Kramer-John Huston-Patrick Stettner-James Melkonian-J.A. Bayona-Michael Tiddes-Roger Avary-Alfred Hitchcock-Bob Odenkirk-Allison Anders-Steven Shainberg-Rick de Oliveira-Oliver Stone-Christopher Guest-Jeff Franklin-John Dahl-Mike Mills-Kevin Smith-Dave McKean-Ron Fricke-Ruggero Deodato-Gavin Wiesen-Mora Stephens-Mars Callahan-Mike Figgis-Leos Carax-David Gordon Green-Stefan Schwartz-Renny Harlin-Robert Lee King-Kevin Allen-Jorge Ramírez Suárez-David Schwimmer-Barry Levinson-Sam Miller-Anne Fontaine-Dan Ireland-Fernando León de Aranoa-Jim Mickle-Stephen Kay-Karim Aïnouz-Sam Levinson-Julian Gilbey-Vincenzo Natali-Aleksandr Veledinskiy-Peter H. Hunt-Ruba Nadda-Howard Hughes-Edward Burns-Phil Joanou-Sean Byrne-Chris Stokes-Mark Griffiths-Bruce Macdonald-Fred Zinnemann-Sidney Lumet-Victor Fleming-Richard Raymond-Sam Peckinpah-Alan Jacobs-George Sidney-Christopher Morris-Andrucha Waddington-Peter Stebbings-Vincente Minnelli-Dagur Kári-Nicholas Hytner-John Schlesinger-Peter Cattaneo-Jim Abrahams-Kevin Carraway-F. Gary Gray-Albert Hughes-Michael Gornick-Sam Peckinpah-Richard Brooks-Fred Zinnemann-Jack Smight-Alfred Hitchcock-Robert Eggers-Michael Martin-Edward Burns-Bill Condon-Juan José Campanella-Gideon Raff-Sam Raimi-Louis C.K.-Anthony C. Ferrante-Salvador Carrasco-André Øvredal-Robert Cary-Adam Rapp-Angela Robinson-Warren P. Sonoda-Amanda Gusack-Avi Nesher-Charles Adelman-Jay Oliva-Charles Ferguson-Uwe Boll-Mark Young-Daniel Petrie Jr.-Antonio Simoncini-Mel Brooks-Luc Jacquet-J.C. Chandor-Eldar Rapaport-Clark Gregg-Damien Chazelle-Fernando Meirelles-Justin Kerrigan-Nathan Frankowski-Karen Moncrieff-Thomas Vinterberg-Bob Clark-Alejandro Monteverde-Mark L. Lester-Jennifer Finnigan-Eric Styles-Laurent Cantet-Roman Polanski-John Ford-Max Mayer-Joshua Marston-Mike Mills-John Gulager-John Landis-Guy Hamilton-Brandon Cronenberg-Frank Capra-Danny Boyle-Spike Lee-Tod Williams-Kirk Jones-Michael Moore-Yimou Zhang-Jack Sholder-James Ivory-James DeMonaco-Scott Derrickson-David Raynr-Richard Brooks-Ted Post-Charles Martin Smith-Kunihiko Yuyama-Tom McLoughlin-David Lean-Patrick Read Johnson-Alfred Hitchcock-Billy Wilder-Adam Marcus-Alfred Hitchcock-Michel Gondry-John Maclean-Michael Schultz-Benny Boom-Richard Brooks-Stanley Kramer-David Raynr-Howard Hawks-Nnegest Likké-Richard Linklater-Christopher Leitch-Don Coscarelli-Michael Schultz-Patricia Cardoso-Deepa Mehta-Damien O'Donnell-Peter M. Cohen-Mira Nair-Nicole Holofcener-Mel Stuart-Anthony Hickox-Tom Schulman-Terrence Malick-Jill Sprecher-Darren Stein-Julian Schnabel-Noah Baumbach-Gavin Hood-Todd Solondz-George Gallo-Kevin Smith-Chan-wook Park-David Nixon-Jason Eisener-Enrique Begne-Matthew Bright-Michael Landon Jr.-Andrea Arnold-Whit Stillman-Leslye Headland-Bobby Roth-Tim Heidecker-Marco Kreuzpaintner-Kate Connor-Deon Taylor-Jason Alexander-Xavier Gens-Conor McPherson-Will Canon-Philip Zlotorynski-Lance Kawas-Francesca Gregorini-Marcio Garcia-David Wain-Craig Moss-Michael Jai White-John Boorman-Paolo Monico-Youssef Delara-Darin Scott-Christian Sesma-Monte Hellman-Brian Caunter-Chris D'Arienzo-Walter Salles-Frank Capra-Isaac Florentine-Susan Seidelman-Michael Polish-Heidi Ewing-Alexandre Aja-Leon Ford-Hank Braxtan-Craig Brewer-Billy Wilder-John Carl Buechler-Victor Fleming-Mel Brooks-George A. Romero-Rajkumar Hirani-Victor Nunez-Carroll Ballard-Rohit Jugraj-Thorbjørn Christoffersen-John Ford-Alex van Warmerdam-Victor Fleming-Mel Brooks-Joseph Zito-Pawel Pawlikowski-James Ivory-Frank Sebastiano-Stacy Peralta-Nacho Vigalondo-Hao Ning-Tony Giglio-Stanley Donen-Joe Cross-Michael Tiddes-Dinesh D'Souza-Tom Hanks-Tommy Lee Wallace-Don Taylor-Martin Ritt-Leslie Small-Gus Van Sant-Zach Braff-Richard Linklater-Éric Tessier-Alison Maclean-Alice Wu-Sarah Gavron-Jake Schreier-Isabel Coixet-James Ponsoldt-Randall Miller-Larry Charles-Joshua Tickell-Tim Boxell-Michael D. Sellers-Reed Cowan-James Dodson-Stefan Ruzowitzky-Alex Rivera-James Gunn-John Murlowski-Benni Diez-Danny Perez-Spike Lee-Robby Henson-Mike Judge-Zackary Adler-Shane Meadows-Dominic Burns-George Sidney-Carmen Marron-Tim McCanlies-George Sidney-Mario Van Peebles-Jason Stone-Jerry Rees-James Algar-Jaco Booyens-Steve Miner-Danny Steinmann-Michael Landon Jr.-Jon Gunn-Hayley Cloake-Tay Garnett-Shyam Madiraju-Harmage Singh Kalirai-Rita Merson-Jon Knautz-William Wyler-Larry Clark-Petter Næss-Robert Fontaine-Jaume Balagueró-Patricia Cardoso-Dan Perri-Neil Mcenery-West-Anthony O'Brien-Terence Young-Michael Herz-Woody Allen-David Robert Mitchell-Woody Allen-Robert Mulligan-George Miller-Chia-Liang Liu-Kimberly Peirce-Chris Kentis-Florian Henckel von Donnersmarck-Alex Kendrick-Robert Rossen-Jack Conway-Sylvain Chomet-Chris Eyre-Shari Springer Berman-Richard Linklater-Alejandro G. Iñárritu-Catherine Hardwicke-Elia Kazan-Debra Granik-Kevin Macdonald-Henry King-Miranda July-Charles Ferguson-Max Joseph-Jim Jarmusch-David Ayer-Jerry Jameson-Steven Soderbergh-Kevin Tenney-John Cameron Mitchell-Ari Folman-Gary Rogers-Charles Ferguson-Marielle Heller-David Sington-Kelly Reichardt-Fenton Bailey-Bob Giraldi-Jill Sprecher-Huck Botko-Luc Besson-David Duchovny-Mitchell Lichtenstein-Lance Mungia-Kundan Shah-Michael Dowse-Hue Rhodes-Shane Meadows-Roland Emmerich-Jugal Hansraj-Danny Provenzano-Bill Muir-Richard LaGravenese-Noah Buschel-Brian Yuzna-Hunter Richards-Laurie Collyer-Aaron Hann-James Watkins-Catherine Hardwicke-Phil Claydon-Ralph Ziman-John Simpson-Colin Minihan-Conor McMahon-Chris Shadley-Simon Napier-Bell-Woody Allen-Simon Yin-Jeff Crook-Orson Welles-Dave Payne-James Cox-Jonas Åkerlund-Brad Copeland-Paul Bunnell-Phil Morrison-Harald Reinl-James Cox-Richard Lester-Michael Moore-Tanner Beard-Scott Dow-Derick Martini-Jerry Dugan-Tim Hunter-Michael Polish-William Kaufman-Rodrigo Cortés-Richard Ayoade-Jehane Noujaim-Pascal Arnold-Remo-James Marsh-John Laing-Jamal Hill-Daniel Stamm-Sam Taylor-Johnson-Elia Kazan-Stanley Kubrick-Carlos Carrera-Benh Zeitlin-J. Lee Thompson-Maggie Greenwald-Vera Farmiga-Vijay Chandar-Morgan Spurlock-Jonathan Wacks-Khyentse Norbu-Ted Post-Richard Brooks-Tony Krantz-Mitchell Altieri-W.D. Hogan-Corey Grant-Tom Tykwer-Lucky McKee-Richard Boddington-David Hunt-Patricia Riggen-J. Lee Thompson-Todd Field-Steven R. Monroe-Mark Illsley-Pawel Pawlikowski-Ritesh Batra-Sally Potter-Frank Capra-Fred Zinnemann-John Ford-Brad J. Silverman-Dave Meyers-David M. Matthews-Nadine Labaki-Lluís Quílez-Eytan Fox-Francis Ford Coppola-Romesh Sharma-François Truffaut-Adam Goldberg-Travis Zariwny-Adrienne Shelly-Newt Arnold-Frank Capra-Larry Clark-Noah Baumbach-Charles Herman-Wurmfeld-John Stockwell-Alfred Hitchcock-Atom Egoyan-Vincent Gallo-James Wan-Alex Cox-Fabián Bielinsky-Dror Moreh-Rebecca Miller-Maggie Carey-Roger Avary-Henry Bean-David Gordon Green-Simeon Rice-Brad Anderson-Jeff Garlin-Qasim Basir-Adam Green-Charles Chaplin-Pete Jones-Bruce Campbell-Mark Brown-Adam Carolla-Ira Sachs-John Sayles-Bruce McDonald-James Mottern-Jaime Zevallos-Rob Zombie-Gerard Johnstone-Robert Greenwald-David Ray-Dave Rodriguez-Nae Caranfil-David Winning-Frank Lotito-Timothy Woodward Jr.-Tara Subkoff-Russell Friedenberg-William Cottrell-Lucrecia Martel-Edward Dmytryk-Zak Penn-Alex Ranarivelo-Jon Knautz-Mathieu Amalric-David Worth-Leslie H. Martinson-Guy Ritchie-Robert M. Young-Thomas Vinterberg-Steve Buscemi-Ham Tran-Rich Cowan-Boris Rodriguez-Sadyk Sher-Niyaz-Paul Donovan-Jonathan Kesselman-Arjun Sablok-Craig Moss-Tyler Oliver-Alfred Hitchcock-Steve Miner-Billy Wilder-Douglas Cheek-Youssef Delara-Deryck Broom-Henry Hathaway-John Ford-Spike Lee-Steven Soderbergh-James Wan-Jay Chandrasekhar-Giovanni Zelko-Claudia Sainte-Luce-Mira Nair-Kenneth Lonergan-Alfred Hitchcock-Jamie Babbit-David Boyd-Quentin Tarantino-Walter Lang-Sergio Leone-Anna Muylaert-Steve Taylor-Kurt Voss-Léa Pool-James David Pasternak-Laurent Bouhnik-Tom Sanchez-David Caffrey-Adam Jay Epstein-Michael Curtiz-Justin Thomas Ostensen-Brenton Spencer-Rob Bowman-Ossie Davis-Jay Alaimo-Dylan Bank-Rob McKittrick-Shane Meadows-Jeff Burr-Harry Gantz-Guy Maddin-Regardt van den Bergh-Panos Cosmatos-Gareth Evans-Matthew R. Anderson-Joe Marino-Michael Curtiz-Joel Anderson-Shimit Amin-Douglas Trumbull-John G. Avildsen-Mona Fastvold-Tony Richardson-Levan Gabriadze-Martin Scorsese-Joe Dante-Terence Young-Bradley Parker-Clive Barker-Harold Cronk-Jeff Wadlow-Takao Okawara-Derek Cianfrance-Duncan Tucker-William Brent Bell-Russ Meyer-Robert D. Webb-Davis Guggenheim-Allan Dwan-Martin Scorsese-Eli Roth-Andrew Steggall-Ben Lewin-Robert Kenner-Andrew Erwin-Brad Anderson-Craig Johnson-Sean Durkin-Gillian Robespierre-Courtney Hunt-Morgan Neville-James Toback-Nicole Holofcener-Chris Paine-Greg Berlanti-Don Coscarelli-Marc Levin-Richard Dutcher-Khalid Mohamed-Trey Parker-David Gordon Green-Finn Taylor-Karen Moncrieff-José Luis Valenzuela-Gia Coppola-Scandar Copti-Goran Dukic-Mike Cahill-Efram Potelle-Joshua Oppenheimer-Alex Gibney-Paul Crowder-Rohit Jagessar-Griffin Dunne-Anthony Powell-Kief Davidson-Johnny Remo-Vivek Agnihotri-Ti West-Nick Tomnay-John Hamburg-Nickolas Perry-Dan Zukovic-Craig Mazin-Becky Smith-Eric Nicholas-Benjamin Dickinson-Hal Haberman-Darren Stein-A. Raven Cruz-Brian Trenchard-Smith-Frank Whaley-Amat Escalante-Wajahat Rauf-Katherine Brooks-David Cross-Randall Rubin-Robert Bennett-Guy Hamilton-Mary Pat Kelly-Lori Petty-Charlie Levi-Kevin Hamedani-David DeCoteau-Mikel Rueda-Stefan C. Schaefer-Michael Taliferro-David DeCoteau-Katie Aselton-Robert Heath-D. Stevens-Jeffrey St. Jules-Robert Hall-K. King-Jonathan Meyers-Ralph Nelson-Blair Erickson-Allison Burnett-Richard Schenkman-Sanjay Rawal-Elia Kazan-Kat Coiro-Cristian Mungiu-Brian Dorton-David Slade-Jamie Babbit-Maryam Keshavarz-Ryan Coogler-Ramaa Mosley-James Algar-Charles Herman-Wurmfeld-C. Jay Cox-Mariette Monpierre-Tommy Oliver-Jamie Travis-Lee Toland Krieger-Rich Christiano-Paul Andrew Williams-Nick Love-Natalie Bible'-Asghar Farhadi-Justin Molotnikov-Todd Solondz-Victor Nunez-Peter Sollett-Georg Wilhelm Pabst-Daniel Davila-Jorge Gaggero-Rod Lurie-Michael Burke-Catherine Jelski-Shane Dawson-Tommy Wirkola-Ryan Little-Clark Baker-George Lucas-Robert Greenwald-Matt Maiellaro-Colin Trevorrow-Leslie Small-Ben Wheatley-Ti West-Bernardo Bertolucci-Neil Burger-Oliver Blackburn-Jonathan Levine-Christopher Hutson-Fred Zinnemann-Steve James-David LaChapelle-Joseph Kosinski-Michael Cuesta-Caryn Waechter-Emily Dell-Ryan Fleck-Jennifer Wynne Farmer-Christopher Scott Cherot-H.M. Coakley-Randy Moore-Chris Atkins-Bill Benenson-Ryan Smith-Travis Romero-Anna Mastro-Mark Sandrich-Daniel Myrick-Michael Wadleigh-John Landis-Jon Gunn-Gene Teigland-Scott Ziehl-Richard Montoya-Johanna Schwartz-William Gazecki-Lance McDaniel-Thomas Lilti-Michael Walker-Richard Lester-U. Roberto Romano-Amy Holden Jones-Blaz Zavrsnik-Alex Kendrick-Pan Nalin-Joe Camp-Chris Kentis-Matt Walsh-John 'Bud' Cardos-Marilyn Agrelo-Tom McCarthy-Brian Baugh-Patrick Creadon-Barry W. Blaustein-Kurt Hale-Siddiq Barmak-Joseph Dorman-Greg Harrison-Kurt Hale-Michael Polish-Jacob Aaron Estes-Morgan J. Freeman-Eric Schaeffer-Neema Barnette-Steve Buscemi-Joe Swanberg-Molly Bernstein-Akira Kurosawa-Marius A. Markevicius-Tom DiCillo-Justin Lin-Quentin Dupieux-C. Jay Cox-Alex Smith-Gareth Edwards-Jonathan Parker-Sol Tryon-Alex Craig Mann-Hao Ning-Stephen Kijak-Marc Forster-Andrew Niccol-Daston Kalili-William Gazecki-Ol Parker-Michael Hoffman Jr.-Patrick Gilles-Georgia Hilton-Jack Heller-Fernando Baez Mella-Warren Sheppard-Darren Lynn Bousman-Justin Paul Miller-Joel Paul Reisig-Catherine Gund-Luke Dye-Michael Herz-Matty Rich-Paul Greengrass-Alec Asten-Hans Canosa-Lloyd Kaufman-Matthew Watts-Lloyd Bacon-Joe Kenemore-Whit Stillman-Kay Pollak-Eric England-Jared Hess-Jeremy Saulnier-Oren Peli-Stacy Peralta-Terry Gilliam-Richard Glatzer-Sue Corcoran-Jonathan Caouette-Ray Griggs-Matt Jackson-Lucio Fulci-Tom Vaughan-Paul Fox-Stephen Frears-Ari Kirschenbaum-Cassandra Nicolaou-Ingmar Bergman-D.W. Griffith-Roger Nygard-Harry Beaumont-Sam Raimi-Franck Khalfoun-Mor Loushy-Henry Alex Rubin-Sam Firstenberg-Doug Block-Chad Kapper-Sidney Lumet-Paul Fierlinger-Frank Capra-Yorgos Lanthimos-Lauren Lazin-Gavin O'Connor-Gregory Widen-Cédric Klapisch-Peter Hedges-Niall Johnson-Kelly Reichardt-Kelly Reichardt-Eric Mendelsohn-Jean-Luc Godard-Florence Ayisi-Pan Nalin-Michael Roemer-Jesse Peretz-Eddie O'Flaherty-Babar Ahmed-John D. Hancock-Paul Bartel-Bruce Dellis-Pece Dingo-Jerome Elston Scott-Étienne Faure-Herb Freed-Jack Perez-Craig Zobel-Kevin Smith-Nicole Holofcener-Ken Del Conte-Justin Lin-Maria Maggenti-Miguel Arteta-Piyush Dinker Pandya-Daniel Columbie-Vincenzo Natali-Emma-Kate Croghan-Bill Plympton-Greg Harrison-Drake Doremus-Al Franklin-Allison Anders-Michael Kang-Paul Schrader-Lori Silverbush-Jeff Nichols-Stuart Hazeldine-Hilary Brougher-Rachel Goldenberg-Corbin Bernsen-Jamin Winans-Tom Seidman-Jason Naumann-Matt Cimber-Sam Martin-Andrew Hyatt-Joel Paul Reisig-Kristin Rizzo-King Vidor-Ward Roberts-Zoran Lisinac-Nicolas Winding Refn-James O'Brien-Tom Putnam-Jon Shear-Al Silliman Jr.-Eugène Lourié-George Miller-Doug Liman-Sergio Leone-Lowell Sherman-Maurizio Benazzo-David G. Evans-Ava DuVernay-Tom Tykwer-Sherman Alexie-Justin Dillon-Stevan Mena-Adam Rifkin-Eric Valette-Jay Duplass-Livingston Oden-Chris Marker-Carl Theodor Dreyer-Marianna Palka-Richard Schenkman-Ricki Stern-Nadia Tass-James Kerwin-C. Fraser Press-Rania Attieh-Sharon Greytak-Majid Majidi-Andrew Haigh-Spike Lee-Cary Bell-Nicolae Constantin Tanase-Mike Cahill-Melvin Van Peebles-Ken Roht-Gary Winick-John Carney-Robinson Devor-Michel Orion Scott-Pat Holden-Eric Bugbee-Bill Melendez-Dena Seidel-Deborah Anderson-Sara Newens-Michael Moore-Sai Varadan-Zal Batmanglij-Amal Al-Agroobi-Andrew Berends-Lynn Shelton-Valentine-David Hewlett-Jean-Luc Godard-Nate Parker-Nathan Smith Jones-Alex Kendrick-Travis Cluff-David Lynch-Harry F. Millarde-Robert Townsend-Peter Chelsom-Jamaa Fanaka-Larry Blamire-Stephen Langford-E.L. Katz-Lisanne Pajot-Dan Reed-John Reinhardt-Patrick Ryan Sims-Laslo Benedek-Jason Miller-Sut Jhally-Darren Aronofsky-Julie Davis-Myles Berkowitz-Brett Piper-Morgan Spurlock-Brandon Trost-Joe Swanberg-Joseph Green-Wade Gasque-Daniel Schechter-Mike Flanagan-Edward Burns-Matt Johnson-Bruno Barreto-Lena Dunham-Terron R. Parsons-Daniel Mellitz-Jem Cohen-Andrew Leman-Dave Carroll-William Eubank-Patrick Meaney-Chad Hartigan-Malcolm Goodwin-David Gordon Green-Kevin Jordan-Kirk Loudon-Travis Legge-Martin Scorsese-Collin Joseph Neal-Bradley Rust Gray-Mike Bruce-Andrew Bujalski-Damir Catic-Ben Wheatley-Kevin Smith-James Bidgood-Andrew Bujalski-Neil LaBute-Eric Eason-Uwe Boll-Richard Linklater-Joseph Mazzella-Travis Legge-Alex Kendrick-Marcus Nispel-Brandon Landers-Jay Duplass-Jim Chuchu-Daryl Wein-Jason Trost-John Waters-Olivier Assayas-Jafar Panahi-Ivan Kavanagh-Kiyoshi Kurosawa-Tadeo Garcia-Thomas L. Phillips-Ash Baron-Cohen-Shane Carruth-Neill Dela Llana-Robert Rodriguez-Anthony Vallone-Edward Burns-Scott Smith-Benjamin Roberds-Daniel Hsia-Jon Gunn\""
      ]
     },
     "execution_count": 70,
     "metadata": {},
     "output_type": "execute_result"
    }
   ],
   "source": [
    "# Concatenate strings from Series in a 1\n",
    "directors.str.cat(sep='-')[:100]"
   ]
  },
  {
   "cell_type": "code",
   "execution_count": 69,
   "metadata": {},
   "outputs": [
    {
     "data": {
      "text/plain": [
       "0           Cameron, James Cameron\n",
       "1        Verbinski, Gore Verbinski\n",
       "2               Mendes, Sam Mendes\n",
       "3         Nolan, Christopher Nolan\n",
       "                   ...            \n",
       "4912                           NaN\n",
       "4913     Roberds, Benjamin Roberds\n",
       "4914             Hsia, Daniel Hsia\n",
       "4915                Gunn, Jon Gunn\n",
       "Name: surname, Length: 4916, dtype: object"
      ]
     },
     "execution_count": 69,
     "metadata": {},
     "output_type": "execute_result"
    }
   ],
   "source": [
    "# Concatenate according strings from Series\n",
    "family.str.cat(directors, sep=', ')"
   ]
  },
  {
   "cell_type": "code",
   "execution_count": 50,
   "metadata": {},
   "outputs": [
    {
     "data": {
      "text/plain": [
       "['capitalize',\n",
       " 'cat',\n",
       " 'center',\n",
       " 'contains',\n",
       " 'count',\n",
       " 'decode',\n",
       " 'encode',\n",
       " 'endswith',\n",
       " 'extract',\n",
       " 'extractall',\n",
       " 'find',\n",
       " 'findall',\n",
       " 'get',\n",
       " 'get_dummies',\n",
       " 'index',\n",
       " 'isalnum',\n",
       " 'isalpha',\n",
       " 'isdecimal',\n",
       " 'isdigit',\n",
       " 'islower',\n",
       " 'isnumeric',\n",
       " 'isspace',\n",
       " 'istitle',\n",
       " 'isupper',\n",
       " 'join',\n",
       " 'len',\n",
       " 'ljust',\n",
       " 'lower',\n",
       " 'lstrip',\n",
       " 'match',\n",
       " 'normalize',\n",
       " 'pad',\n",
       " 'partition',\n",
       " 'repeat',\n",
       " 'replace',\n",
       " 'rfind',\n",
       " 'rindex',\n",
       " 'rjust',\n",
       " 'rpartition',\n",
       " 'rsplit',\n",
       " 'rstrip',\n",
       " 'slice',\n",
       " 'slice_replace',\n",
       " 'split',\n",
       " 'startswith',\n",
       " 'strip',\n",
       " 'swapcase',\n",
       " 'title',\n",
       " 'translate',\n",
       " 'upper',\n",
       " 'wrap',\n",
       " 'zfill']"
      ]
     },
     "execution_count": 50,
     "metadata": {},
     "output_type": "execute_result"
    }
   ],
   "source": [
    "# Available str methods\n",
    "list(filter(lambda x: not x.startswith('_'), dir(pd.Series.str)))"
   ]
  },
  {
   "cell_type": "markdown",
   "metadata": {},
   "source": [
    "## Timings"
   ]
  },
  {
   "cell_type": "code",
   "execution_count": 37,
   "metadata": {},
   "outputs": [
    {
     "name": "stdout",
     "output_type": "stream",
     "text": [
      "3.93 ms ± 139 µs per loop (mean ± std. dev. of 7 runs, 100 loops each)\n"
     ]
    }
   ],
   "source": [
    "%%timeit \n",
    "directors.str.count('e')"
   ]
  },
  {
   "cell_type": "code",
   "execution_count": 38,
   "metadata": {},
   "outputs": [
    {
     "name": "stdout",
     "output_type": "stream",
     "text": [
      "1.5 ms ± 26 µs per loop (mean ± std. dev. of 7 runs, 1000 loops each)\n"
     ]
    }
   ],
   "source": [
    "%%timeit\n",
    "es = []\n",
    "for record in directors:\n",
    "    try:\n",
    "        es.append(record.count('e'))\n",
    "    except:\n",
    "        es.append(np.nan)"
   ]
  },
  {
   "cell_type": "code",
   "execution_count": 39,
   "metadata": {},
   "outputs": [],
   "source": [
    "# Check whether series are equal\n",
    "assert pd.Series.equals(pd.Series(es), directors.str.count('e')), 'Series are not equal'"
   ]
  },
  {
   "cell_type": "markdown",
   "metadata": {},
   "source": [
    "Come on, python faster vectorized pandas, wtf"
   ]
  },
  {
   "cell_type": "code",
   "execution_count": null,
   "metadata": {},
   "outputs": [],
   "source": []
  }
 ],
 "metadata": {
  "kernelspec": {
   "display_name": "Python 3",
   "language": "python",
   "name": "python3"
  },
  "language_info": {
   "codemirror_mode": {
    "name": "ipython",
    "version": 3
   },
   "file_extension": ".py",
   "mimetype": "text/x-python",
   "name": "python",
   "nbconvert_exporter": "python",
   "pygments_lexer": "ipython3",
   "version": "3.6.4"
  }
 },
 "nbformat": 4,
 "nbformat_minor": 2
}
